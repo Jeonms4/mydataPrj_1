{
  "cells": [
    {
      "cell_type": "markdown",
      "metadata": {
        "id": "view-in-github",
        "colab_type": "text"
      },
      "source": [
        "<a href=\"https://colab.research.google.com/github/Jeonms4/mydataPrj_1/blob/main/%EB%8D%B0%EC%9D%B4%ED%84%B0_%EB%B6%84%EC%84%9D_%ED%94%84%EB%A1%9C%EC%A0%9D%ED%8A%B8(%EC%88%98%EC%A0%95).ipynb\" target=\"_parent\"><img src=\"https://colab.research.google.com/assets/colab-badge.svg\" alt=\"Open In Colab\"/></a>"
      ]
    },
    {
      "cell_type": "markdown",
      "id": "2080d8ae",
      "metadata": {
        "id": "2080d8ae"
      },
      "source": [
        "## 데이터 분석 프로세스"
      ]
    },
    {
      "cell_type": "code",
      "execution_count": null,
      "id": "6a6a048d",
      "metadata": {
        "id": "6a6a048d"
      },
      "outputs": [],
      "source": [
        "import requests"
      ]
    },
    {
      "cell_type": "code",
      "execution_count": null,
      "id": "60760b62",
      "metadata": {
        "id": "60760b62"
      },
      "outputs": [],
      "source": [
        "url = 'https://github.com/wikibook/python-for-data-analysis-rev/raw/master/readme.txt'"
      ]
    },
    {
      "cell_type": "code",
      "execution_count": null,
      "id": "e419fe09",
      "metadata": {
        "id": "e419fe09"
      },
      "outputs": [],
      "source": [
        "r = requests.get(url)"
      ]
    },
    {
      "cell_type": "code",
      "execution_count": null,
      "id": "a16c2170",
      "metadata": {
        "id": "a16c2170",
        "outputId": "c29d18d6-4f62-4a7e-b0f2-4df19623d560"
      },
      "outputs": [
        {
          "data": {
            "text/plain": [
              "<Response [200]>"
            ]
          },
          "execution_count": 4,
          "metadata": {},
          "output_type": "execute_result"
        }
      ],
      "source": [
        "r"
      ]
    },
    {
      "cell_type": "code",
      "execution_count": null,
      "id": "0ae3dccd",
      "metadata": {
        "id": "0ae3dccd"
      },
      "outputs": [],
      "source": [
        "file_name = 'C:/ex/py/pyPrj1/myPyCode/data/readme.txt'"
      ]
    },
    {
      "cell_type": "code",
      "execution_count": null,
      "id": "447857c8",
      "metadata": {
        "id": "447857c8"
      },
      "outputs": [],
      "source": [
        "with open(file_name, 'wb') as f:\n",
        "    f.write(r.content)"
      ]
    },
    {
      "cell_type": "code",
      "execution_count": null,
      "id": "c870425d",
      "metadata": {
        "id": "c870425d"
      },
      "outputs": [],
      "source": [
        "import os"
      ]
    },
    {
      "cell_type": "code",
      "execution_count": null,
      "id": "e369cd0e",
      "metadata": {
        "id": "e369cd0e",
        "outputId": "45a68ea2-fe2a-4b4c-a766-db1d5d524275"
      },
      "outputs": [
        {
          "data": {
            "text/plain": [
              "True"
            ]
          },
          "execution_count": 8,
          "metadata": {},
          "output_type": "execute_result"
        }
      ],
      "source": [
        "os.path.isfile(file_name)"
      ]
    },
    {
      "cell_type": "code",
      "execution_count": null,
      "id": "abfa1aba",
      "metadata": {
        "id": "abfa1aba",
        "outputId": "9c544e4c-e211-4dc9-e494-fa33aff17a22"
      },
      "outputs": [
        {
          "name": "stdout",
          "output_type": "stream",
          "text": [
            "연도,제품1,제품2,제품3,제품4\n",
            "2015,250,150,,\n",
            "2016,200,160,170,\n",
            "2017,150,200,100,150\n",
            "2018,120,230,130,170\n",
            "2019,,250,140,\n"
          ]
        }
      ],
      "source": [
        "!type C:\\ex\\py\\pyPrj1\\myPyCode\\data\\missing_data_test.csv"
      ]
    },
    {
      "cell_type": "code",
      "execution_count": null,
      "id": "6ddf5055",
      "metadata": {
        "id": "6ddf5055"
      },
      "outputs": [],
      "source": [
        "import pandas as pd"
      ]
    },
    {
      "cell_type": "code",
      "execution_count": null,
      "id": "126170f2",
      "metadata": {
        "id": "126170f2"
      },
      "outputs": [],
      "source": [
        "data_file = \"C:/ex/py/pyPrj1/myPyCode/data/missing_data_test.csv\""
      ]
    },
    {
      "cell_type": "code",
      "execution_count": null,
      "id": "d1585307",
      "metadata": {
        "id": "d1585307"
      },
      "outputs": [],
      "source": [
        "df = pd.read_csv(data_file, encoding='cp949')"
      ]
    },
    {
      "cell_type": "code",
      "execution_count": null,
      "id": "b3cd59f9",
      "metadata": {
        "id": "b3cd59f9",
        "outputId": "9942a6dc-6bfa-4067-ae7b-890cedc00e36"
      },
      "outputs": [
        {
          "data": {
            "text/html": [
              "<div>\n",
              "<style scoped>\n",
              "    .dataframe tbody tr th:only-of-type {\n",
              "        vertical-align: middle;\n",
              "    }\n",
              "\n",
              "    .dataframe tbody tr th {\n",
              "        vertical-align: top;\n",
              "    }\n",
              "\n",
              "    .dataframe thead th {\n",
              "        text-align: right;\n",
              "    }\n",
              "</style>\n",
              "<table border=\"1\" class=\"dataframe\">\n",
              "  <thead>\n",
              "    <tr style=\"text-align: right;\">\n",
              "      <th></th>\n",
              "      <th>연도</th>\n",
              "      <th>제품1</th>\n",
              "      <th>제품2</th>\n",
              "      <th>제품3</th>\n",
              "      <th>제품4</th>\n",
              "    </tr>\n",
              "  </thead>\n",
              "  <tbody>\n",
              "    <tr>\n",
              "      <th>0</th>\n",
              "      <td>2015</td>\n",
              "      <td>250.0</td>\n",
              "      <td>150</td>\n",
              "      <td>NaN</td>\n",
              "      <td>NaN</td>\n",
              "    </tr>\n",
              "    <tr>\n",
              "      <th>1</th>\n",
              "      <td>2016</td>\n",
              "      <td>200.0</td>\n",
              "      <td>160</td>\n",
              "      <td>170.0</td>\n",
              "      <td>NaN</td>\n",
              "    </tr>\n",
              "    <tr>\n",
              "      <th>2</th>\n",
              "      <td>2017</td>\n",
              "      <td>150.0</td>\n",
              "      <td>200</td>\n",
              "      <td>100.0</td>\n",
              "      <td>150.0</td>\n",
              "    </tr>\n",
              "    <tr>\n",
              "      <th>3</th>\n",
              "      <td>2018</td>\n",
              "      <td>120.0</td>\n",
              "      <td>230</td>\n",
              "      <td>130.0</td>\n",
              "      <td>170.0</td>\n",
              "    </tr>\n",
              "    <tr>\n",
              "      <th>4</th>\n",
              "      <td>2019</td>\n",
              "      <td>NaN</td>\n",
              "      <td>250</td>\n",
              "      <td>140.0</td>\n",
              "      <td>NaN</td>\n",
              "    </tr>\n",
              "  </tbody>\n",
              "</table>\n",
              "</div>"
            ],
            "text/plain": [
              "     연도    제품1  제품2    제품3    제품4\n",
              "0  2015  250.0  150    NaN    NaN\n",
              "1  2016  200.0  160  170.0    NaN\n",
              "2  2017  150.0  200  100.0  150.0\n",
              "3  2018  120.0  230  130.0  170.0\n",
              "4  2019    NaN  250  140.0    NaN"
            ]
          },
          "execution_count": 73,
          "metadata": {},
          "output_type": "execute_result"
        }
      ],
      "source": [
        "df"
      ]
    },
    {
      "cell_type": "code",
      "execution_count": null,
      "id": "bf23a855",
      "metadata": {
        "id": "bf23a855",
        "outputId": "8388ab41-7dc3-4531-a06d-99eb3f46821a"
      },
      "outputs": [
        {
          "data": {
            "text/plain": [
              "pandas.core.frame.DataFrame"
            ]
          },
          "execution_count": 14,
          "metadata": {},
          "output_type": "execute_result"
        }
      ],
      "source": [
        "type(df)"
      ]
    },
    {
      "cell_type": "code",
      "execution_count": null,
      "id": "a344a33c",
      "metadata": {
        "id": "a344a33c",
        "outputId": "72a5cbad-a9e1-4b49-c42d-508265fe019f"
      },
      "outputs": [
        {
          "data": {
            "text/plain": [
              "RangeIndex(start=0, stop=5, step=1)"
            ]
          },
          "execution_count": 15,
          "metadata": {},
          "output_type": "execute_result"
        }
      ],
      "source": [
        "df.index"
      ]
    },
    {
      "cell_type": "code",
      "execution_count": null,
      "id": "5d6a1893",
      "metadata": {
        "id": "5d6a1893",
        "outputId": "ae41ebad-6295-4be2-bdd5-049048bdaeec"
      },
      "outputs": [
        {
          "data": {
            "text/plain": [
              "연도     2015.0\n",
              "제품1     250.0\n",
              "제품2     150.0\n",
              "제품3       NaN\n",
              "제품4       NaN\n",
              "Name: 0, dtype: float64"
            ]
          },
          "execution_count": 16,
          "metadata": {},
          "output_type": "execute_result"
        }
      ],
      "source": [
        "df.iloc[0]"
      ]
    },
    {
      "cell_type": "code",
      "execution_count": null,
      "id": "e211d7ed",
      "metadata": {
        "id": "e211d7ed",
        "outputId": "ad914d00-a40b-4a86-9a48-2ce4d5e8da94"
      },
      "outputs": [
        {
          "data": {
            "text/plain": [
              "pandas.core.series.Series"
            ]
          },
          "execution_count": 17,
          "metadata": {},
          "output_type": "execute_result"
        }
      ],
      "source": [
        "type(df.iloc[0]) #Series란 인덱스가 있는 배열"
      ]
    },
    {
      "cell_type": "code",
      "execution_count": null,
      "id": "1dd5b49f",
      "metadata": {
        "id": "1dd5b49f",
        "outputId": "babdd96e-8572-40a4-f2bd-0be793d52206"
      },
      "outputs": [
        {
          "data": {
            "text/plain": [
              "Index(['연도', '제품1', '제품2', '제품3', '제품4'], dtype='object')"
            ]
          },
          "execution_count": 18,
          "metadata": {},
          "output_type": "execute_result"
        }
      ],
      "source": [
        "df.iloc[0].index"
      ]
    },
    {
      "cell_type": "code",
      "execution_count": null,
      "id": "177e79da",
      "metadata": {
        "id": "177e79da",
        "outputId": "ed96fd20-80f1-41bd-f01b-b4587ccaedd9"
      },
      "outputs": [
        {
          "data": {
            "text/plain": [
              "0    2015\n",
              "1    2016\n",
              "2    2017\n",
              "3    2018\n",
              "4    2019\n",
              "Name: 연도, dtype: int64"
            ]
          },
          "execution_count": 19,
          "metadata": {},
          "output_type": "execute_result"
        }
      ],
      "source": [
        "df.연도"
      ]
    },
    {
      "cell_type": "code",
      "execution_count": null,
      "id": "034bbe92",
      "metadata": {
        "id": "034bbe92",
        "outputId": "eaa6e851-d12b-4c7a-8474-e48e2b3beb75"
      },
      "outputs": [
        {
          "data": {
            "text/plain": [
              "0    2015\n",
              "1    2016\n",
              "2    2017\n",
              "3    2018\n",
              "4    2019\n",
              "Name: 연도, dtype: int64"
            ]
          },
          "execution_count": 20,
          "metadata": {},
          "output_type": "execute_result"
        }
      ],
      "source": [
        "df['연도']"
      ]
    },
    {
      "cell_type": "code",
      "execution_count": null,
      "id": "b6e9c0cd",
      "metadata": {
        "id": "b6e9c0cd",
        "outputId": "4dd268b1-b9ac-413c-b1ea-dea0d7222c29"
      },
      "outputs": [
        {
          "data": {
            "text/plain": [
              "연도     2017.0\n",
              "제품1     150.0\n",
              "제품2     200.0\n",
              "제품3     100.0\n",
              "제품4     150.0\n",
              "Name: 2, dtype: float64"
            ]
          },
          "execution_count": 21,
          "metadata": {},
          "output_type": "execute_result"
        }
      ],
      "source": [
        "df.iloc[2,]"
      ]
    },
    {
      "cell_type": "code",
      "execution_count": null,
      "id": "f72935c3",
      "metadata": {
        "id": "f72935c3",
        "outputId": "ce8424f6-0fa5-43f9-b597-093bcad2e0fa"
      },
      "outputs": [
        {
          "data": {
            "text/html": [
              "<div>\n",
              "<style scoped>\n",
              "    .dataframe tbody tr th:only-of-type {\n",
              "        vertical-align: middle;\n",
              "    }\n",
              "\n",
              "    .dataframe tbody tr th {\n",
              "        vertical-align: top;\n",
              "    }\n",
              "\n",
              "    .dataframe thead th {\n",
              "        text-align: right;\n",
              "    }\n",
              "</style>\n",
              "<table border=\"1\" class=\"dataframe\">\n",
              "  <thead>\n",
              "    <tr style=\"text-align: right;\">\n",
              "      <th></th>\n",
              "      <th>연도</th>\n",
              "      <th>제품1</th>\n",
              "      <th>제품2</th>\n",
              "      <th>제품3</th>\n",
              "      <th>제품4</th>\n",
              "    </tr>\n",
              "  </thead>\n",
              "  <tbody>\n",
              "    <tr>\n",
              "      <th>2</th>\n",
              "      <td>2017</td>\n",
              "      <td>150.0</td>\n",
              "      <td>200</td>\n",
              "      <td>100.0</td>\n",
              "      <td>150.0</td>\n",
              "    </tr>\n",
              "    <tr>\n",
              "      <th>3</th>\n",
              "      <td>2018</td>\n",
              "      <td>120.0</td>\n",
              "      <td>230</td>\n",
              "      <td>130.0</td>\n",
              "      <td>170.0</td>\n",
              "    </tr>\n",
              "  </tbody>\n",
              "</table>\n",
              "</div>"
            ],
            "text/plain": [
              "     연도    제품1  제품2    제품3    제품4\n",
              "2  2017  150.0  200  100.0  150.0\n",
              "3  2018  120.0  230  130.0  170.0"
            ]
          },
          "execution_count": 22,
          "metadata": {},
          "output_type": "execute_result"
        }
      ],
      "source": [
        "df.iloc[2:4,]"
      ]
    },
    {
      "cell_type": "code",
      "execution_count": null,
      "id": "d1eed1ea",
      "metadata": {
        "id": "d1eed1ea",
        "outputId": "c5897182-1dc8-4323-d4e1-873d5db83d0d"
      },
      "outputs": [
        {
          "data": {
            "text/html": [
              "<div>\n",
              "<style scoped>\n",
              "    .dataframe tbody tr th:only-of-type {\n",
              "        vertical-align: middle;\n",
              "    }\n",
              "\n",
              "    .dataframe tbody tr th {\n",
              "        vertical-align: top;\n",
              "    }\n",
              "\n",
              "    .dataframe thead th {\n",
              "        text-align: right;\n",
              "    }\n",
              "</style>\n",
              "<table border=\"1\" class=\"dataframe\">\n",
              "  <thead>\n",
              "    <tr style=\"text-align: right;\">\n",
              "      <th></th>\n",
              "      <th>제품2</th>\n",
              "      <th>제품3</th>\n",
              "    </tr>\n",
              "  </thead>\n",
              "  <tbody>\n",
              "    <tr>\n",
              "      <th>2</th>\n",
              "      <td>200</td>\n",
              "      <td>100.0</td>\n",
              "    </tr>\n",
              "    <tr>\n",
              "      <th>3</th>\n",
              "      <td>230</td>\n",
              "      <td>130.0</td>\n",
              "    </tr>\n",
              "  </tbody>\n",
              "</table>\n",
              "</div>"
            ],
            "text/plain": [
              "   제품2    제품3\n",
              "2  200  100.0\n",
              "3  230  130.0"
            ]
          },
          "execution_count": 23,
          "metadata": {},
          "output_type": "execute_result"
        }
      ],
      "source": [
        "df.iloc[2:4,2:4]"
      ]
    },
    {
      "cell_type": "code",
      "execution_count": null,
      "id": "67fabf6d",
      "metadata": {
        "id": "67fabf6d",
        "outputId": "2e4c1dbe-9814-4e9a-e2eb-ea8a12fb5f36"
      },
      "outputs": [
        {
          "data": {
            "text/html": [
              "<div>\n",
              "<style scoped>\n",
              "    .dataframe tbody tr th:only-of-type {\n",
              "        vertical-align: middle;\n",
              "    }\n",
              "\n",
              "    .dataframe tbody tr th {\n",
              "        vertical-align: top;\n",
              "    }\n",
              "\n",
              "    .dataframe thead th {\n",
              "        text-align: right;\n",
              "    }\n",
              "</style>\n",
              "<table border=\"1\" class=\"dataframe\">\n",
              "  <thead>\n",
              "    <tr style=\"text-align: right;\">\n",
              "      <th></th>\n",
              "      <th>제품3</th>\n",
              "      <th>제품4</th>\n",
              "    </tr>\n",
              "  </thead>\n",
              "  <tbody>\n",
              "    <tr>\n",
              "      <th>0</th>\n",
              "      <td>NaN</td>\n",
              "      <td>NaN</td>\n",
              "    </tr>\n",
              "    <tr>\n",
              "      <th>1</th>\n",
              "      <td>170.0</td>\n",
              "      <td>NaN</td>\n",
              "    </tr>\n",
              "    <tr>\n",
              "      <th>2</th>\n",
              "      <td>100.0</td>\n",
              "      <td>150.0</td>\n",
              "    </tr>\n",
              "  </tbody>\n",
              "</table>\n",
              "</div>"
            ],
            "text/plain": [
              "     제품3    제품4\n",
              "0    NaN    NaN\n",
              "1  170.0    NaN\n",
              "2  100.0  150.0"
            ]
          },
          "execution_count": 24,
          "metadata": {},
          "output_type": "execute_result"
        }
      ],
      "source": [
        "df.iloc[0:3,3:5]"
      ]
    },
    {
      "cell_type": "code",
      "execution_count": null,
      "id": "f03dc272",
      "metadata": {
        "id": "f03dc272"
      },
      "outputs": [],
      "source": [
        "#help(df.set_index)"
      ]
    },
    {
      "cell_type": "code",
      "execution_count": null,
      "id": "4e10cb19",
      "metadata": {
        "id": "4e10cb19",
        "outputId": "df542fa9-4e16-4592-b366-aa20f727aa36"
      },
      "outputs": [
        {
          "data": {
            "text/html": [
              "<div>\n",
              "<style scoped>\n",
              "    .dataframe tbody tr th:only-of-type {\n",
              "        vertical-align: middle;\n",
              "    }\n",
              "\n",
              "    .dataframe tbody tr th {\n",
              "        vertical-align: top;\n",
              "    }\n",
              "\n",
              "    .dataframe thead th {\n",
              "        text-align: right;\n",
              "    }\n",
              "</style>\n",
              "<table border=\"1\" class=\"dataframe\">\n",
              "  <thead>\n",
              "    <tr style=\"text-align: right;\">\n",
              "      <th></th>\n",
              "      <th>제품1</th>\n",
              "      <th>제품2</th>\n",
              "      <th>제품3</th>\n",
              "      <th>제품4</th>\n",
              "    </tr>\n",
              "    <tr>\n",
              "      <th>연도</th>\n",
              "      <th></th>\n",
              "      <th></th>\n",
              "      <th></th>\n",
              "      <th></th>\n",
              "    </tr>\n",
              "  </thead>\n",
              "  <tbody>\n",
              "    <tr>\n",
              "      <th>2015</th>\n",
              "      <td>250.0</td>\n",
              "      <td>150</td>\n",
              "      <td>NaN</td>\n",
              "      <td>NaN</td>\n",
              "    </tr>\n",
              "    <tr>\n",
              "      <th>2016</th>\n",
              "      <td>200.0</td>\n",
              "      <td>160</td>\n",
              "      <td>170.0</td>\n",
              "      <td>NaN</td>\n",
              "    </tr>\n",
              "    <tr>\n",
              "      <th>2017</th>\n",
              "      <td>150.0</td>\n",
              "      <td>200</td>\n",
              "      <td>100.0</td>\n",
              "      <td>150.0</td>\n",
              "    </tr>\n",
              "    <tr>\n",
              "      <th>2018</th>\n",
              "      <td>120.0</td>\n",
              "      <td>230</td>\n",
              "      <td>130.0</td>\n",
              "      <td>170.0</td>\n",
              "    </tr>\n",
              "    <tr>\n",
              "      <th>2019</th>\n",
              "      <td>NaN</td>\n",
              "      <td>250</td>\n",
              "      <td>140.0</td>\n",
              "      <td>NaN</td>\n",
              "    </tr>\n",
              "  </tbody>\n",
              "</table>\n",
              "</div>"
            ],
            "text/plain": [
              "        제품1  제품2    제품3    제품4\n",
              "연도                            \n",
              "2015  250.0  150    NaN    NaN\n",
              "2016  200.0  160  170.0    NaN\n",
              "2017  150.0  200  100.0  150.0\n",
              "2018  120.0  230  130.0  170.0\n",
              "2019    NaN  250  140.0    NaN"
            ]
          },
          "execution_count": 26,
          "metadata": {},
          "output_type": "execute_result"
        }
      ],
      "source": [
        "df.set_index('연도')"
      ]
    },
    {
      "cell_type": "code",
      "execution_count": null,
      "id": "271c027d",
      "metadata": {
        "id": "271c027d"
      },
      "outputs": [],
      "source": [
        "df=df.set_index('연도')"
      ]
    },
    {
      "cell_type": "code",
      "execution_count": null,
      "id": "bdefc1f3",
      "metadata": {
        "id": "bdefc1f3"
      },
      "outputs": [],
      "source": [
        "#df_index=df.set_index('연도')"
      ]
    },
    {
      "cell_type": "code",
      "execution_count": null,
      "id": "fa17f0aa",
      "metadata": {
        "id": "fa17f0aa"
      },
      "outputs": [],
      "source": [
        "df_index=df"
      ]
    },
    {
      "cell_type": "code",
      "execution_count": null,
      "id": "1760598c",
      "metadata": {
        "id": "1760598c",
        "outputId": "fcd66aad-ab4d-4893-a3c7-d85020d4cef3"
      },
      "outputs": [
        {
          "data": {
            "text/html": [
              "<div>\n",
              "<style scoped>\n",
              "    .dataframe tbody tr th:only-of-type {\n",
              "        vertical-align: middle;\n",
              "    }\n",
              "\n",
              "    .dataframe tbody tr th {\n",
              "        vertical-align: top;\n",
              "    }\n",
              "\n",
              "    .dataframe thead th {\n",
              "        text-align: right;\n",
              "    }\n",
              "</style>\n",
              "<table border=\"1\" class=\"dataframe\">\n",
              "  <thead>\n",
              "    <tr style=\"text-align: right;\">\n",
              "      <th></th>\n",
              "      <th>제품1</th>\n",
              "      <th>제품2</th>\n",
              "      <th>제품3</th>\n",
              "      <th>제품4</th>\n",
              "    </tr>\n",
              "    <tr>\n",
              "      <th>연도</th>\n",
              "      <th></th>\n",
              "      <th></th>\n",
              "      <th></th>\n",
              "      <th></th>\n",
              "    </tr>\n",
              "  </thead>\n",
              "  <tbody>\n",
              "    <tr>\n",
              "      <th>2015</th>\n",
              "      <td>250.0</td>\n",
              "      <td>150</td>\n",
              "      <td>NaN</td>\n",
              "      <td>NaN</td>\n",
              "    </tr>\n",
              "    <tr>\n",
              "      <th>2016</th>\n",
              "      <td>200.0</td>\n",
              "      <td>160</td>\n",
              "      <td>170.0</td>\n",
              "      <td>NaN</td>\n",
              "    </tr>\n",
              "    <tr>\n",
              "      <th>2017</th>\n",
              "      <td>150.0</td>\n",
              "      <td>200</td>\n",
              "      <td>100.0</td>\n",
              "      <td>150.0</td>\n",
              "    </tr>\n",
              "    <tr>\n",
              "      <th>2018</th>\n",
              "      <td>120.0</td>\n",
              "      <td>230</td>\n",
              "      <td>130.0</td>\n",
              "      <td>170.0</td>\n",
              "    </tr>\n",
              "    <tr>\n",
              "      <th>2019</th>\n",
              "      <td>NaN</td>\n",
              "      <td>250</td>\n",
              "      <td>140.0</td>\n",
              "      <td>NaN</td>\n",
              "    </tr>\n",
              "  </tbody>\n",
              "</table>\n",
              "</div>"
            ],
            "text/plain": [
              "        제품1  제품2    제품3    제품4\n",
              "연도                            \n",
              "2015  250.0  150    NaN    NaN\n",
              "2016  200.0  160  170.0    NaN\n",
              "2017  150.0  200  100.0  150.0\n",
              "2018  120.0  230  130.0  170.0\n",
              "2019    NaN  250  140.0    NaN"
            ]
          },
          "execution_count": 29,
          "metadata": {},
          "output_type": "execute_result"
        }
      ],
      "source": [
        "df"
      ]
    },
    {
      "cell_type": "code",
      "execution_count": null,
      "id": "963f77e2",
      "metadata": {
        "id": "963f77e2",
        "outputId": "9bb7cc4d-00fd-4c32-cb66-6dbd80129dbd"
      },
      "outputs": [
        {
          "data": {
            "text/html": [
              "<div>\n",
              "<style scoped>\n",
              "    .dataframe tbody tr th:only-of-type {\n",
              "        vertical-align: middle;\n",
              "    }\n",
              "\n",
              "    .dataframe tbody tr th {\n",
              "        vertical-align: top;\n",
              "    }\n",
              "\n",
              "    .dataframe thead th {\n",
              "        text-align: right;\n",
              "    }\n",
              "</style>\n",
              "<table border=\"1\" class=\"dataframe\">\n",
              "  <thead>\n",
              "    <tr style=\"text-align: right;\">\n",
              "      <th></th>\n",
              "      <th>제품1</th>\n",
              "      <th>제품2</th>\n",
              "      <th>제품3</th>\n",
              "      <th>제품4</th>\n",
              "    </tr>\n",
              "    <tr>\n",
              "      <th>연도</th>\n",
              "      <th></th>\n",
              "      <th></th>\n",
              "      <th></th>\n",
              "      <th></th>\n",
              "    </tr>\n",
              "  </thead>\n",
              "  <tbody>\n",
              "    <tr>\n",
              "      <th>2015</th>\n",
              "      <td>250.0</td>\n",
              "      <td>150</td>\n",
              "      <td>NaN</td>\n",
              "      <td>NaN</td>\n",
              "    </tr>\n",
              "    <tr>\n",
              "      <th>2016</th>\n",
              "      <td>200.0</td>\n",
              "      <td>160</td>\n",
              "      <td>170.0</td>\n",
              "      <td>NaN</td>\n",
              "    </tr>\n",
              "    <tr>\n",
              "      <th>2017</th>\n",
              "      <td>150.0</td>\n",
              "      <td>200</td>\n",
              "      <td>100.0</td>\n",
              "      <td>150.0</td>\n",
              "    </tr>\n",
              "    <tr>\n",
              "      <th>2018</th>\n",
              "      <td>120.0</td>\n",
              "      <td>230</td>\n",
              "      <td>130.0</td>\n",
              "      <td>170.0</td>\n",
              "    </tr>\n",
              "    <tr>\n",
              "      <th>2019</th>\n",
              "      <td>NaN</td>\n",
              "      <td>250</td>\n",
              "      <td>140.0</td>\n",
              "      <td>NaN</td>\n",
              "    </tr>\n",
              "  </tbody>\n",
              "</table>\n",
              "</div>"
            ],
            "text/plain": [
              "        제품1  제품2    제품3    제품4\n",
              "연도                            \n",
              "2015  250.0  150    NaN    NaN\n",
              "2016  200.0  160  170.0    NaN\n",
              "2017  150.0  200  100.0  150.0\n",
              "2018  120.0  230  130.0  170.0\n",
              "2019    NaN  250  140.0    NaN"
            ]
          },
          "execution_count": 33,
          "metadata": {},
          "output_type": "execute_result"
        }
      ],
      "source": [
        "df_index"
      ]
    },
    {
      "cell_type": "code",
      "execution_count": null,
      "id": "f4865a4a",
      "metadata": {
        "id": "f4865a4a",
        "outputId": "e1ac3536-c7fb-4b3e-8901-ba6a0ba3192c"
      },
      "outputs": [
        {
          "data": {
            "text/plain": [
              "제품1    250.0\n",
              "제품2    150.0\n",
              "제품3      NaN\n",
              "제품4      NaN\n",
              "Name: 2015, dtype: float64"
            ]
          },
          "execution_count": 34,
          "metadata": {},
          "output_type": "execute_result"
        }
      ],
      "source": [
        "df.loc[2015,]"
      ]
    },
    {
      "cell_type": "code",
      "execution_count": null,
      "id": "d194b670",
      "metadata": {
        "id": "d194b670",
        "outputId": "66835735-e383-4b00-c885-32ce36c5353b"
      },
      "outputs": [
        {
          "data": {
            "text/plain": [
              "nan"
            ]
          },
          "execution_count": 35,
          "metadata": {},
          "output_type": "execute_result"
        }
      ],
      "source": [
        "df.loc[2015,'제품3']"
      ]
    },
    {
      "cell_type": "code",
      "execution_count": null,
      "id": "10c74679",
      "metadata": {
        "id": "10c74679",
        "outputId": "958189b3-0be9-4aac-b5ee-c1dd32ce106f"
      },
      "outputs": [
        {
          "data": {
            "text/html": [
              "<div>\n",
              "<style scoped>\n",
              "    .dataframe tbody tr th:only-of-type {\n",
              "        vertical-align: middle;\n",
              "    }\n",
              "\n",
              "    .dataframe tbody tr th {\n",
              "        vertical-align: top;\n",
              "    }\n",
              "\n",
              "    .dataframe thead th {\n",
              "        text-align: right;\n",
              "    }\n",
              "</style>\n",
              "<table border=\"1\" class=\"dataframe\">\n",
              "  <thead>\n",
              "    <tr style=\"text-align: right;\">\n",
              "      <th></th>\n",
              "      <th>제품3</th>\n",
              "      <th>제품4</th>\n",
              "    </tr>\n",
              "    <tr>\n",
              "      <th>연도</th>\n",
              "      <th></th>\n",
              "      <th></th>\n",
              "    </tr>\n",
              "  </thead>\n",
              "  <tbody>\n",
              "    <tr>\n",
              "      <th>2015</th>\n",
              "      <td>NaN</td>\n",
              "      <td>NaN</td>\n",
              "    </tr>\n",
              "    <tr>\n",
              "      <th>2016</th>\n",
              "      <td>170.0</td>\n",
              "      <td>NaN</td>\n",
              "    </tr>\n",
              "    <tr>\n",
              "      <th>2017</th>\n",
              "      <td>100.0</td>\n",
              "      <td>150.0</td>\n",
              "    </tr>\n",
              "  </tbody>\n",
              "</table>\n",
              "</div>"
            ],
            "text/plain": [
              "        제품3    제품4\n",
              "연도                \n",
              "2015    NaN    NaN\n",
              "2016  170.0    NaN\n",
              "2017  100.0  150.0"
            ]
          },
          "execution_count": 36,
          "metadata": {},
          "output_type": "execute_result"
        }
      ],
      "source": [
        "df.loc[[2015,2016,2017],['제품3','제품4']]"
      ]
    },
    {
      "cell_type": "code",
      "execution_count": null,
      "id": "6f763b7e",
      "metadata": {
        "id": "6f763b7e",
        "outputId": "5082e15e-fc4c-4c36-a4db-a48b981b2c4a"
      },
      "outputs": [
        {
          "data": {
            "text/html": [
              "<div>\n",
              "<style scoped>\n",
              "    .dataframe tbody tr th:only-of-type {\n",
              "        vertical-align: middle;\n",
              "    }\n",
              "\n",
              "    .dataframe tbody tr th {\n",
              "        vertical-align: top;\n",
              "    }\n",
              "\n",
              "    .dataframe thead th {\n",
              "        text-align: right;\n",
              "    }\n",
              "</style>\n",
              "<table border=\"1\" class=\"dataframe\">\n",
              "  <thead>\n",
              "    <tr style=\"text-align: right;\">\n",
              "      <th></th>\n",
              "      <th>제품3</th>\n",
              "      <th>제품4</th>\n",
              "    </tr>\n",
              "    <tr>\n",
              "      <th>연도</th>\n",
              "      <th></th>\n",
              "      <th></th>\n",
              "    </tr>\n",
              "  </thead>\n",
              "  <tbody>\n",
              "    <tr>\n",
              "      <th>2015</th>\n",
              "      <td>NaN</td>\n",
              "      <td>NaN</td>\n",
              "    </tr>\n",
              "    <tr>\n",
              "      <th>2017</th>\n",
              "      <td>100.0</td>\n",
              "      <td>150.0</td>\n",
              "    </tr>\n",
              "  </tbody>\n",
              "</table>\n",
              "</div>"
            ],
            "text/plain": [
              "        제품3    제품4\n",
              "연도                \n",
              "2015    NaN    NaN\n",
              "2017  100.0  150.0"
            ]
          },
          "execution_count": 37,
          "metadata": {},
          "output_type": "execute_result"
        }
      ],
      "source": [
        "df.loc[[2015,2017],['제품3','제품4']]"
      ]
    },
    {
      "cell_type": "code",
      "execution_count": null,
      "id": "19d10369",
      "metadata": {
        "id": "19d10369",
        "outputId": "92a0221f-a50e-43c7-e462-7c06a68ecf2a"
      },
      "outputs": [
        {
          "data": {
            "text/html": [
              "<div>\n",
              "<style scoped>\n",
              "    .dataframe tbody tr th:only-of-type {\n",
              "        vertical-align: middle;\n",
              "    }\n",
              "\n",
              "    .dataframe tbody tr th {\n",
              "        vertical-align: top;\n",
              "    }\n",
              "\n",
              "    .dataframe thead th {\n",
              "        text-align: right;\n",
              "    }\n",
              "</style>\n",
              "<table border=\"1\" class=\"dataframe\">\n",
              "  <thead>\n",
              "    <tr style=\"text-align: right;\">\n",
              "      <th></th>\n",
              "      <th>제품1</th>\n",
              "      <th>제품2</th>\n",
              "      <th>제품3</th>\n",
              "      <th>제품4</th>\n",
              "    </tr>\n",
              "  </thead>\n",
              "  <tbody>\n",
              "    <tr>\n",
              "      <th>count</th>\n",
              "      <td>4.000000</td>\n",
              "      <td>5.000000</td>\n",
              "      <td>4.000000</td>\n",
              "      <td>2.000000</td>\n",
              "    </tr>\n",
              "    <tr>\n",
              "      <th>mean</th>\n",
              "      <td>180.000000</td>\n",
              "      <td>198.000000</td>\n",
              "      <td>135.000000</td>\n",
              "      <td>160.000000</td>\n",
              "    </tr>\n",
              "    <tr>\n",
              "      <th>std</th>\n",
              "      <td>57.154761</td>\n",
              "      <td>43.243497</td>\n",
              "      <td>28.867513</td>\n",
              "      <td>14.142136</td>\n",
              "    </tr>\n",
              "    <tr>\n",
              "      <th>min</th>\n",
              "      <td>120.000000</td>\n",
              "      <td>150.000000</td>\n",
              "      <td>100.000000</td>\n",
              "      <td>150.000000</td>\n",
              "    </tr>\n",
              "    <tr>\n",
              "      <th>25%</th>\n",
              "      <td>142.500000</td>\n",
              "      <td>160.000000</td>\n",
              "      <td>122.500000</td>\n",
              "      <td>155.000000</td>\n",
              "    </tr>\n",
              "    <tr>\n",
              "      <th>50%</th>\n",
              "      <td>175.000000</td>\n",
              "      <td>200.000000</td>\n",
              "      <td>135.000000</td>\n",
              "      <td>160.000000</td>\n",
              "    </tr>\n",
              "    <tr>\n",
              "      <th>75%</th>\n",
              "      <td>212.500000</td>\n",
              "      <td>230.000000</td>\n",
              "      <td>147.500000</td>\n",
              "      <td>165.000000</td>\n",
              "    </tr>\n",
              "    <tr>\n",
              "      <th>max</th>\n",
              "      <td>250.000000</td>\n",
              "      <td>250.000000</td>\n",
              "      <td>170.000000</td>\n",
              "      <td>170.000000</td>\n",
              "    </tr>\n",
              "  </tbody>\n",
              "</table>\n",
              "</div>"
            ],
            "text/plain": [
              "              제품1         제품2         제품3         제품4\n",
              "count    4.000000    5.000000    4.000000    2.000000\n",
              "mean   180.000000  198.000000  135.000000  160.000000\n",
              "std     57.154761   43.243497   28.867513   14.142136\n",
              "min    120.000000  150.000000  100.000000  150.000000\n",
              "25%    142.500000  160.000000  122.500000  155.000000\n",
              "50%    175.000000  200.000000  135.000000  160.000000\n",
              "75%    212.500000  230.000000  147.500000  165.000000\n",
              "max    250.000000  250.000000  170.000000  170.000000"
            ]
          },
          "execution_count": 38,
          "metadata": {},
          "output_type": "execute_result"
        }
      ],
      "source": [
        "df.describe()"
      ]
    },
    {
      "cell_type": "code",
      "execution_count": null,
      "id": "c49e6123",
      "metadata": {
        "id": "c49e6123",
        "outputId": "cb820c7a-7c2a-4a98-c784-75b3b4815b4c"
      },
      "outputs": [
        {
          "data": {
            "text/plain": [
              "제품1    150.0\n",
              "제품2    200.0\n",
              "제품3    100.0\n",
              "제품4    150.0\n",
              "Name: 2017, dtype: float64"
            ]
          },
          "execution_count": 39,
          "metadata": {},
          "output_type": "execute_result"
        }
      ],
      "source": [
        "df.loc[2017]"
      ]
    },
    {
      "cell_type": "code",
      "execution_count": null,
      "id": "ebcc5ffd",
      "metadata": {
        "id": "ebcc5ffd",
        "outputId": "53e555f1-79e9-4357-f176-9fe4637ae14c"
      },
      "outputs": [
        {
          "data": {
            "text/plain": [
              "array([150., 200., 100., 150.])"
            ]
          },
          "execution_count": 40,
          "metadata": {},
          "output_type": "execute_result"
        }
      ],
      "source": [
        "df.loc[2017].values"
      ]
    },
    {
      "cell_type": "code",
      "execution_count": null,
      "id": "e07b9551",
      "metadata": {
        "id": "e07b9551",
        "outputId": "062e6ffc-b688-4471-e742-4d9f8469f98a"
      },
      "outputs": [
        {
          "data": {
            "text/plain": [
              "Index(['제품1', '제품2', '제품3', '제품4'], dtype='object')"
            ]
          },
          "execution_count": 41,
          "metadata": {},
          "output_type": "execute_result"
        }
      ],
      "source": [
        "df.loc[2017].index"
      ]
    },
    {
      "cell_type": "code",
      "execution_count": null,
      "id": "4ae564c1",
      "metadata": {
        "id": "4ae564c1"
      },
      "outputs": [],
      "source": [
        "#평균"
      ]
    },
    {
      "cell_type": "code",
      "execution_count": null,
      "id": "afe3a772",
      "metadata": {
        "id": "afe3a772",
        "outputId": "547427f1-a097-4b58-b5b0-215ebcc64e48"
      },
      "outputs": [
        {
          "data": {
            "text/plain": [
              "150.0"
            ]
          },
          "execution_count": 43,
          "metadata": {},
          "output_type": "execute_result"
        }
      ],
      "source": [
        "(150+200+100+150)/4"
      ]
    },
    {
      "cell_type": "code",
      "execution_count": null,
      "id": "d622470a",
      "metadata": {
        "id": "d622470a",
        "outputId": "ee324ed8-9269-4417-b794-c33f081a503a"
      },
      "outputs": [
        {
          "data": {
            "text/plain": [
              "연도\n",
              "2015    150\n",
              "2016    160\n",
              "2017    200\n",
              "2018    230\n",
              "2019    250\n",
              "Name: 제품2, dtype: int64"
            ]
          },
          "execution_count": 44,
          "metadata": {},
          "output_type": "execute_result"
        }
      ],
      "source": [
        "df.제품2"
      ]
    },
    {
      "cell_type": "code",
      "execution_count": null,
      "id": "efa07d8e",
      "metadata": {
        "id": "efa07d8e"
      },
      "outputs": [],
      "source": [
        "import numpy as np"
      ]
    },
    {
      "cell_type": "code",
      "execution_count": null,
      "id": "b8305df1",
      "metadata": {
        "id": "b8305df1"
      },
      "outputs": [],
      "source": [
        "avg=np.mean(df.제품2)"
      ]
    },
    {
      "cell_type": "code",
      "execution_count": null,
      "id": "f3839b2a",
      "metadata": {
        "id": "f3839b2a",
        "outputId": "73540f67-1afc-4052-b56d-83d1bbfb3121"
      },
      "outputs": [
        {
          "data": {
            "text/plain": [
              "198.0"
            ]
          },
          "execution_count": 47,
          "metadata": {},
          "output_type": "execute_result"
        }
      ],
      "source": [
        "avg"
      ]
    },
    {
      "cell_type": "code",
      "execution_count": null,
      "id": "bc88ff77",
      "metadata": {
        "id": "bc88ff77",
        "outputId": "0cde5a34-7368-4b14-8e84-207898db1af4"
      },
      "outputs": [
        {
          "data": {
            "text/plain": [
              "array([150, 160, 200, 230, 250], dtype=int64)"
            ]
          },
          "execution_count": 48,
          "metadata": {},
          "output_type": "execute_result"
        }
      ],
      "source": [
        "df.제품2.values"
      ]
    },
    {
      "cell_type": "code",
      "execution_count": null,
      "id": "ca75d1b2",
      "metadata": {
        "id": "ca75d1b2"
      },
      "outputs": [],
      "source": [
        "# 편차(deviation)"
      ]
    },
    {
      "cell_type": "code",
      "execution_count": null,
      "id": "0d104f86",
      "metadata": {
        "id": "0d104f86"
      },
      "outputs": [],
      "source": [
        "deviation=avg-df.제품2.values"
      ]
    },
    {
      "cell_type": "code",
      "execution_count": null,
      "id": "2a8287fd",
      "metadata": {
        "id": "2a8287fd",
        "outputId": "8e3fc835-9780-460e-a56d-7e05f6c6bdfe"
      },
      "outputs": [
        {
          "data": {
            "text/plain": [
              "array([ 48.,  38.,  -2., -32., -52.])"
            ]
          },
          "execution_count": 51,
          "metadata": {},
          "output_type": "execute_result"
        }
      ],
      "source": [
        "deviation"
      ]
    },
    {
      "cell_type": "code",
      "execution_count": null,
      "id": "e62e4e0e",
      "metadata": {
        "id": "e62e4e0e",
        "outputId": "cae30693-b56f-4b95-e2df-e884fea5c289"
      },
      "outputs": [
        {
          "data": {
            "text/plain": [
              "array([2304., 1444.,    4., 1024., 2704.])"
            ]
          },
          "execution_count": 52,
          "metadata": {},
          "output_type": "execute_result"
        }
      ],
      "source": [
        "deviation**2"
      ]
    },
    {
      "cell_type": "code",
      "execution_count": null,
      "id": "c073996c",
      "metadata": {
        "id": "c073996c",
        "outputId": "5a514668-5030-4f0f-c7d6-0869cbb5b6d8"
      },
      "outputs": [
        {
          "data": {
            "text/plain": [
              "1870.0"
            ]
          },
          "execution_count": 53,
          "metadata": {},
          "output_type": "execute_result"
        }
      ],
      "source": [
        "df.제품2.var()"
      ]
    },
    {
      "cell_type": "code",
      "execution_count": null,
      "id": "387bea6c",
      "metadata": {
        "id": "387bea6c",
        "outputId": "1177714e-fbbc-4539-d9b8-f8581e3abc66"
      },
      "outputs": [
        {
          "data": {
            "text/plain": [
              "43.243496620879306"
            ]
          },
          "execution_count": 54,
          "metadata": {},
          "output_type": "execute_result"
        }
      ],
      "source": [
        "np.sqrt(df.제품2.var())"
      ]
    },
    {
      "cell_type": "code",
      "execution_count": null,
      "id": "c7618ffb",
      "metadata": {
        "id": "c7618ffb"
      },
      "outputs": [],
      "source": [
        "# 분산에 제곱근 -> 표준편차(Standard Deviation)"
      ]
    },
    {
      "cell_type": "code",
      "execution_count": null,
      "id": "7fc63462",
      "metadata": {
        "id": "7fc63462",
        "outputId": "52804941-9114-4b65-cf85-2d576cccc375"
      },
      "outputs": [
        {
          "data": {
            "text/plain": [
              "1870.0"
            ]
          },
          "execution_count": 56,
          "metadata": {},
          "output_type": "execute_result"
        }
      ],
      "source": [
        "np.sum(deviation**2)/4"
      ]
    },
    {
      "cell_type": "code",
      "execution_count": null,
      "id": "4a703805",
      "metadata": {
        "id": "4a703805",
        "outputId": "355b02ab-66de-42a1-a337-570966a4a4bc"
      },
      "outputs": [
        {
          "data": {
            "text/html": [
              "<div>\n",
              "<style scoped>\n",
              "    .dataframe tbody tr th:only-of-type {\n",
              "        vertical-align: middle;\n",
              "    }\n",
              "\n",
              "    .dataframe tbody tr th {\n",
              "        vertical-align: top;\n",
              "    }\n",
              "\n",
              "    .dataframe thead th {\n",
              "        text-align: right;\n",
              "    }\n",
              "</style>\n",
              "<table border=\"1\" class=\"dataframe\">\n",
              "  <thead>\n",
              "    <tr style=\"text-align: right;\">\n",
              "      <th></th>\n",
              "      <th>제품1</th>\n",
              "      <th>제품2</th>\n",
              "      <th>제품3</th>\n",
              "      <th>제품4</th>\n",
              "    </tr>\n",
              "    <tr>\n",
              "      <th>연도</th>\n",
              "      <th></th>\n",
              "      <th></th>\n",
              "      <th></th>\n",
              "      <th></th>\n",
              "    </tr>\n",
              "  </thead>\n",
              "  <tbody>\n",
              "    <tr>\n",
              "      <th>2015</th>\n",
              "      <td>250.0</td>\n",
              "      <td>150</td>\n",
              "      <td>NaN</td>\n",
              "      <td>NaN</td>\n",
              "    </tr>\n",
              "    <tr>\n",
              "      <th>2016</th>\n",
              "      <td>200.0</td>\n",
              "      <td>160</td>\n",
              "      <td>170.0</td>\n",
              "      <td>NaN</td>\n",
              "    </tr>\n",
              "    <tr>\n",
              "      <th>2017</th>\n",
              "      <td>150.0</td>\n",
              "      <td>200</td>\n",
              "      <td>100.0</td>\n",
              "      <td>150.0</td>\n",
              "    </tr>\n",
              "    <tr>\n",
              "      <th>2018</th>\n",
              "      <td>120.0</td>\n",
              "      <td>230</td>\n",
              "      <td>130.0</td>\n",
              "      <td>170.0</td>\n",
              "    </tr>\n",
              "    <tr>\n",
              "      <th>2019</th>\n",
              "      <td>NaN</td>\n",
              "      <td>250</td>\n",
              "      <td>140.0</td>\n",
              "      <td>NaN</td>\n",
              "    </tr>\n",
              "  </tbody>\n",
              "</table>\n",
              "</div>"
            ],
            "text/plain": [
              "        제품1  제품2    제품3    제품4\n",
              "연도                            \n",
              "2015  250.0  150    NaN    NaN\n",
              "2016  200.0  160  170.0    NaN\n",
              "2017  150.0  200  100.0  150.0\n",
              "2018  120.0  230  130.0  170.0\n",
              "2019    NaN  250  140.0    NaN"
            ]
          },
          "execution_count": 57,
          "metadata": {},
          "output_type": "execute_result"
        }
      ],
      "source": [
        "df"
      ]
    },
    {
      "cell_type": "code",
      "execution_count": null,
      "id": "ae415223",
      "metadata": {
        "id": "ae415223",
        "outputId": "6f491676-edd6-49f8-fd00-b79bca25eb87"
      },
      "outputs": [
        {
          "data": {
            "text/html": [
              "<div>\n",
              "<style scoped>\n",
              "    .dataframe tbody tr th:only-of-type {\n",
              "        vertical-align: middle;\n",
              "    }\n",
              "\n",
              "    .dataframe tbody tr th {\n",
              "        vertical-align: top;\n",
              "    }\n",
              "\n",
              "    .dataframe thead th {\n",
              "        text-align: right;\n",
              "    }\n",
              "</style>\n",
              "<table border=\"1\" class=\"dataframe\">\n",
              "  <thead>\n",
              "    <tr style=\"text-align: right;\">\n",
              "      <th></th>\n",
              "      <th>제품1</th>\n",
              "      <th>제품2</th>\n",
              "      <th>제품3</th>\n",
              "      <th>제품4</th>\n",
              "    </tr>\n",
              "    <tr>\n",
              "      <th>연도</th>\n",
              "      <th></th>\n",
              "      <th></th>\n",
              "      <th></th>\n",
              "      <th></th>\n",
              "    </tr>\n",
              "  </thead>\n",
              "  <tbody>\n",
              "    <tr>\n",
              "      <th>2015</th>\n",
              "      <td>False</td>\n",
              "      <td>False</td>\n",
              "      <td>True</td>\n",
              "      <td>True</td>\n",
              "    </tr>\n",
              "    <tr>\n",
              "      <th>2016</th>\n",
              "      <td>False</td>\n",
              "      <td>False</td>\n",
              "      <td>False</td>\n",
              "      <td>True</td>\n",
              "    </tr>\n",
              "    <tr>\n",
              "      <th>2017</th>\n",
              "      <td>False</td>\n",
              "      <td>False</td>\n",
              "      <td>False</td>\n",
              "      <td>False</td>\n",
              "    </tr>\n",
              "    <tr>\n",
              "      <th>2018</th>\n",
              "      <td>False</td>\n",
              "      <td>False</td>\n",
              "      <td>False</td>\n",
              "      <td>False</td>\n",
              "    </tr>\n",
              "    <tr>\n",
              "      <th>2019</th>\n",
              "      <td>True</td>\n",
              "      <td>False</td>\n",
              "      <td>False</td>\n",
              "      <td>True</td>\n",
              "    </tr>\n",
              "  </tbody>\n",
              "</table>\n",
              "</div>"
            ],
            "text/plain": [
              "        제품1    제품2    제품3    제품4\n",
              "연도                              \n",
              "2015  False  False   True   True\n",
              "2016  False  False  False   True\n",
              "2017  False  False  False  False\n",
              "2018  False  False  False  False\n",
              "2019   True  False  False   True"
            ]
          },
          "execution_count": 58,
          "metadata": {},
          "output_type": "execute_result"
        }
      ],
      "source": [
        "df.isnull()"
      ]
    },
    {
      "cell_type": "code",
      "execution_count": null,
      "id": "a8d0f95c",
      "metadata": {
        "id": "a8d0f95c",
        "outputId": "6228d658-a40f-40a6-e381-ee38aececcef"
      },
      "outputs": [
        {
          "data": {
            "text/plain": [
              "제품1    1\n",
              "제품2    0\n",
              "제품3    1\n",
              "제품4    3\n",
              "dtype: int64"
            ]
          },
          "execution_count": 59,
          "metadata": {},
          "output_type": "execute_result"
        }
      ],
      "source": [
        "df.isnull().sum()"
      ]
    },
    {
      "cell_type": "code",
      "execution_count": null,
      "id": "e4a84869",
      "metadata": {
        "id": "e4a84869"
      },
      "outputs": [],
      "source": [
        "#help(df.drop)"
      ]
    },
    {
      "cell_type": "code",
      "execution_count": null,
      "id": "ac170b61",
      "metadata": {
        "id": "ac170b61",
        "outputId": "520d6bc3-1194-4561-98c6-35136b7be9c0"
      },
      "outputs": [
        {
          "data": {
            "text/html": [
              "<div>\n",
              "<style scoped>\n",
              "    .dataframe tbody tr th:only-of-type {\n",
              "        vertical-align: middle;\n",
              "    }\n",
              "\n",
              "    .dataframe tbody tr th {\n",
              "        vertical-align: top;\n",
              "    }\n",
              "\n",
              "    .dataframe thead th {\n",
              "        text-align: right;\n",
              "    }\n",
              "</style>\n",
              "<table border=\"1\" class=\"dataframe\">\n",
              "  <thead>\n",
              "    <tr style=\"text-align: right;\">\n",
              "      <th></th>\n",
              "      <th>제품1</th>\n",
              "      <th>제품2</th>\n",
              "      <th>제품3</th>\n",
              "      <th>제품4</th>\n",
              "    </tr>\n",
              "    <tr>\n",
              "      <th>연도</th>\n",
              "      <th></th>\n",
              "      <th></th>\n",
              "      <th></th>\n",
              "      <th></th>\n",
              "    </tr>\n",
              "  </thead>\n",
              "  <tbody>\n",
              "    <tr>\n",
              "      <th>2015</th>\n",
              "      <td>250.0</td>\n",
              "      <td>150</td>\n",
              "      <td>NaN</td>\n",
              "      <td>NaN</td>\n",
              "    </tr>\n",
              "    <tr>\n",
              "      <th>2016</th>\n",
              "      <td>200.0</td>\n",
              "      <td>160</td>\n",
              "      <td>170.0</td>\n",
              "      <td>NaN</td>\n",
              "    </tr>\n",
              "    <tr>\n",
              "      <th>2017</th>\n",
              "      <td>150.0</td>\n",
              "      <td>200</td>\n",
              "      <td>100.0</td>\n",
              "      <td>150.0</td>\n",
              "    </tr>\n",
              "    <tr>\n",
              "      <th>2018</th>\n",
              "      <td>120.0</td>\n",
              "      <td>230</td>\n",
              "      <td>130.0</td>\n",
              "      <td>170.0</td>\n",
              "    </tr>\n",
              "  </tbody>\n",
              "</table>\n",
              "</div>"
            ],
            "text/plain": [
              "        제품1  제품2    제품3    제품4\n",
              "연도                            \n",
              "2015  250.0  150    NaN    NaN\n",
              "2016  200.0  160  170.0    NaN\n",
              "2017  150.0  200  100.0  150.0\n",
              "2018  120.0  230  130.0  170.0"
            ]
          },
          "execution_count": 61,
          "metadata": {},
          "output_type": "execute_result"
        }
      ],
      "source": [
        "df.drop(index=[2019])"
      ]
    },
    {
      "cell_type": "code",
      "execution_count": null,
      "id": "43b07308",
      "metadata": {
        "id": "43b07308"
      },
      "outputs": [],
      "source": [
        "df=df.drop(index=[2019])"
      ]
    },
    {
      "cell_type": "code",
      "execution_count": null,
      "id": "b644f983",
      "metadata": {
        "id": "b644f983",
        "outputId": "77cfd84d-e103-42d7-cef6-e3f66eb29373"
      },
      "outputs": [
        {
          "data": {
            "text/html": [
              "<div>\n",
              "<style scoped>\n",
              "    .dataframe tbody tr th:only-of-type {\n",
              "        vertical-align: middle;\n",
              "    }\n",
              "\n",
              "    .dataframe tbody tr th {\n",
              "        vertical-align: top;\n",
              "    }\n",
              "\n",
              "    .dataframe thead th {\n",
              "        text-align: right;\n",
              "    }\n",
              "</style>\n",
              "<table border=\"1\" class=\"dataframe\">\n",
              "  <thead>\n",
              "    <tr style=\"text-align: right;\">\n",
              "      <th></th>\n",
              "      <th>제품1</th>\n",
              "      <th>제품2</th>\n",
              "      <th>제품3</th>\n",
              "      <th>제품4</th>\n",
              "    </tr>\n",
              "    <tr>\n",
              "      <th>연도</th>\n",
              "      <th></th>\n",
              "      <th></th>\n",
              "      <th></th>\n",
              "      <th></th>\n",
              "    </tr>\n",
              "  </thead>\n",
              "  <tbody>\n",
              "    <tr>\n",
              "      <th>2015</th>\n",
              "      <td>250.0</td>\n",
              "      <td>150</td>\n",
              "      <td>NaN</td>\n",
              "      <td>NaN</td>\n",
              "    </tr>\n",
              "    <tr>\n",
              "      <th>2016</th>\n",
              "      <td>200.0</td>\n",
              "      <td>160</td>\n",
              "      <td>170.0</td>\n",
              "      <td>NaN</td>\n",
              "    </tr>\n",
              "    <tr>\n",
              "      <th>2017</th>\n",
              "      <td>150.0</td>\n",
              "      <td>200</td>\n",
              "      <td>100.0</td>\n",
              "      <td>150.0</td>\n",
              "    </tr>\n",
              "    <tr>\n",
              "      <th>2018</th>\n",
              "      <td>120.0</td>\n",
              "      <td>230</td>\n",
              "      <td>130.0</td>\n",
              "      <td>170.0</td>\n",
              "    </tr>\n",
              "  </tbody>\n",
              "</table>\n",
              "</div>"
            ],
            "text/plain": [
              "        제품1  제품2    제품3    제품4\n",
              "연도                            \n",
              "2015  250.0  150    NaN    NaN\n",
              "2016  200.0  160  170.0    NaN\n",
              "2017  150.0  200  100.0  150.0\n",
              "2018  120.0  230  130.0  170.0"
            ]
          },
          "execution_count": 63,
          "metadata": {},
          "output_type": "execute_result"
        }
      ],
      "source": [
        "df"
      ]
    },
    {
      "cell_type": "code",
      "execution_count": null,
      "id": "884ad5ec",
      "metadata": {
        "id": "884ad5ec",
        "outputId": "99ac0bb1-bdd4-4142-ddbf-3af45ccf03e1"
      },
      "outputs": [
        {
          "data": {
            "text/html": [
              "<div>\n",
              "<style scoped>\n",
              "    .dataframe tbody tr th:only-of-type {\n",
              "        vertical-align: middle;\n",
              "    }\n",
              "\n",
              "    .dataframe tbody tr th {\n",
              "        vertical-align: top;\n",
              "    }\n",
              "\n",
              "    .dataframe thead th {\n",
              "        text-align: right;\n",
              "    }\n",
              "</style>\n",
              "<table border=\"1\" class=\"dataframe\">\n",
              "  <thead>\n",
              "    <tr style=\"text-align: right;\">\n",
              "      <th></th>\n",
              "      <th>연도</th>\n",
              "      <th>제품1</th>\n",
              "      <th>제품2</th>\n",
              "      <th>제품3</th>\n",
              "      <th>제품4</th>\n",
              "    </tr>\n",
              "  </thead>\n",
              "  <tbody>\n",
              "    <tr>\n",
              "      <th>0</th>\n",
              "      <td>2015</td>\n",
              "      <td>250.0</td>\n",
              "      <td>150</td>\n",
              "      <td>NaN</td>\n",
              "      <td>NaN</td>\n",
              "    </tr>\n",
              "    <tr>\n",
              "      <th>1</th>\n",
              "      <td>2016</td>\n",
              "      <td>200.0</td>\n",
              "      <td>160</td>\n",
              "      <td>170.0</td>\n",
              "      <td>NaN</td>\n",
              "    </tr>\n",
              "    <tr>\n",
              "      <th>2</th>\n",
              "      <td>2017</td>\n",
              "      <td>150.0</td>\n",
              "      <td>200</td>\n",
              "      <td>100.0</td>\n",
              "      <td>150.0</td>\n",
              "    </tr>\n",
              "    <tr>\n",
              "      <th>3</th>\n",
              "      <td>2018</td>\n",
              "      <td>120.0</td>\n",
              "      <td>230</td>\n",
              "      <td>130.0</td>\n",
              "      <td>170.0</td>\n",
              "    </tr>\n",
              "    <tr>\n",
              "      <th>4</th>\n",
              "      <td>2019</td>\n",
              "      <td>NaN</td>\n",
              "      <td>250</td>\n",
              "      <td>140.0</td>\n",
              "      <td>NaN</td>\n",
              "    </tr>\n",
              "  </tbody>\n",
              "</table>\n",
              "</div>"
            ],
            "text/plain": [
              "     연도    제품1  제품2    제품3    제품4\n",
              "0  2015  250.0  150    NaN    NaN\n",
              "1  2016  200.0  160  170.0    NaN\n",
              "2  2017  150.0  200  100.0  150.0\n",
              "3  2018  120.0  230  130.0  170.0\n",
              "4  2019    NaN  250  140.0    NaN"
            ]
          },
          "execution_count": 69,
          "metadata": {},
          "output_type": "execute_result"
        }
      ],
      "source": [
        "df"
      ]
    },
    {
      "cell_type": "code",
      "execution_count": null,
      "id": "7152b3a4",
      "metadata": {
        "id": "7152b3a4"
      },
      "outputs": [],
      "source": [
        "df2=df_index.drop(index=[2019])"
      ]
    },
    {
      "cell_type": "code",
      "execution_count": null,
      "id": "a93b53f9",
      "metadata": {
        "id": "a93b53f9",
        "outputId": "158b8ce1-4a47-4a7f-dbf5-dac05d813296"
      },
      "outputs": [
        {
          "data": {
            "text/html": [
              "<div>\n",
              "<style scoped>\n",
              "    .dataframe tbody tr th:only-of-type {\n",
              "        vertical-align: middle;\n",
              "    }\n",
              "\n",
              "    .dataframe tbody tr th {\n",
              "        vertical-align: top;\n",
              "    }\n",
              "\n",
              "    .dataframe thead th {\n",
              "        text-align: right;\n",
              "    }\n",
              "</style>\n",
              "<table border=\"1\" class=\"dataframe\">\n",
              "  <thead>\n",
              "    <tr style=\"text-align: right;\">\n",
              "      <th></th>\n",
              "      <th>제품1</th>\n",
              "      <th>제품2</th>\n",
              "      <th>제품3</th>\n",
              "      <th>제품4</th>\n",
              "    </tr>\n",
              "    <tr>\n",
              "      <th>연도</th>\n",
              "      <th></th>\n",
              "      <th></th>\n",
              "      <th></th>\n",
              "      <th></th>\n",
              "    </tr>\n",
              "  </thead>\n",
              "  <tbody>\n",
              "    <tr>\n",
              "      <th>2015</th>\n",
              "      <td>250.0</td>\n",
              "      <td>150</td>\n",
              "      <td>NaN</td>\n",
              "      <td>NaN</td>\n",
              "    </tr>\n",
              "    <tr>\n",
              "      <th>2016</th>\n",
              "      <td>200.0</td>\n",
              "      <td>160</td>\n",
              "      <td>170.0</td>\n",
              "      <td>NaN</td>\n",
              "    </tr>\n",
              "    <tr>\n",
              "      <th>2017</th>\n",
              "      <td>150.0</td>\n",
              "      <td>200</td>\n",
              "      <td>100.0</td>\n",
              "      <td>150.0</td>\n",
              "    </tr>\n",
              "    <tr>\n",
              "      <th>2018</th>\n",
              "      <td>120.0</td>\n",
              "      <td>230</td>\n",
              "      <td>130.0</td>\n",
              "      <td>170.0</td>\n",
              "    </tr>\n",
              "  </tbody>\n",
              "</table>\n",
              "</div>"
            ],
            "text/plain": [
              "        제품1  제품2    제품3    제품4\n",
              "연도                            \n",
              "2015  250.0  150    NaN    NaN\n",
              "2016  200.0  160  170.0    NaN\n",
              "2017  150.0  200  100.0  150.0\n",
              "2018  120.0  230  130.0  170.0"
            ]
          },
          "execution_count": 71,
          "metadata": {},
          "output_type": "execute_result"
        }
      ],
      "source": [
        "df2"
      ]
    },
    {
      "cell_type": "code",
      "execution_count": null,
      "id": "a1957b14",
      "metadata": {
        "id": "a1957b14"
      },
      "outputs": [],
      "source": [
        "df3=df_index.drop(columns=['제품3','제품4'])"
      ]
    },
    {
      "cell_type": "code",
      "execution_count": null,
      "id": "ad76c244",
      "metadata": {
        "id": "ad76c244",
        "outputId": "17912b71-b8e5-41fc-f664-1976289a5846"
      },
      "outputs": [
        {
          "data": {
            "text/html": [
              "<div>\n",
              "<style scoped>\n",
              "    .dataframe tbody tr th:only-of-type {\n",
              "        vertical-align: middle;\n",
              "    }\n",
              "\n",
              "    .dataframe tbody tr th {\n",
              "        vertical-align: top;\n",
              "    }\n",
              "\n",
              "    .dataframe thead th {\n",
              "        text-align: right;\n",
              "    }\n",
              "</style>\n",
              "<table border=\"1\" class=\"dataframe\">\n",
              "  <thead>\n",
              "    <tr style=\"text-align: right;\">\n",
              "      <th></th>\n",
              "      <th>제품1</th>\n",
              "      <th>제품2</th>\n",
              "    </tr>\n",
              "    <tr>\n",
              "      <th>연도</th>\n",
              "      <th></th>\n",
              "      <th></th>\n",
              "    </tr>\n",
              "  </thead>\n",
              "  <tbody>\n",
              "    <tr>\n",
              "      <th>2015</th>\n",
              "      <td>250.0</td>\n",
              "      <td>150</td>\n",
              "    </tr>\n",
              "    <tr>\n",
              "      <th>2016</th>\n",
              "      <td>200.0</td>\n",
              "      <td>160</td>\n",
              "    </tr>\n",
              "    <tr>\n",
              "      <th>2017</th>\n",
              "      <td>150.0</td>\n",
              "      <td>200</td>\n",
              "    </tr>\n",
              "    <tr>\n",
              "      <th>2018</th>\n",
              "      <td>120.0</td>\n",
              "      <td>230</td>\n",
              "    </tr>\n",
              "    <tr>\n",
              "      <th>2019</th>\n",
              "      <td>NaN</td>\n",
              "      <td>250</td>\n",
              "    </tr>\n",
              "  </tbody>\n",
              "</table>\n",
              "</div>"
            ],
            "text/plain": [
              "        제품1  제품2\n",
              "연도              \n",
              "2015  250.0  150\n",
              "2016  200.0  160\n",
              "2017  150.0  200\n",
              "2018  120.0  230\n",
              "2019    NaN  250"
            ]
          },
          "execution_count": 75,
          "metadata": {},
          "output_type": "execute_result"
        }
      ],
      "source": [
        "df3"
      ]
    },
    {
      "cell_type": "code",
      "execution_count": null,
      "id": "8f6ca27a",
      "metadata": {
        "id": "8f6ca27a"
      },
      "outputs": [],
      "source": [
        "df_copy=df.copy()"
      ]
    },
    {
      "cell_type": "code",
      "execution_count": null,
      "id": "6ebb8c4e",
      "metadata": {
        "id": "6ebb8c4e",
        "outputId": "d2ccb222-cf3c-423e-8802-b48a711adc6d"
      },
      "outputs": [
        {
          "data": {
            "text/html": [
              "<div>\n",
              "<style scoped>\n",
              "    .dataframe tbody tr th:only-of-type {\n",
              "        vertical-align: middle;\n",
              "    }\n",
              "\n",
              "    .dataframe tbody tr th {\n",
              "        vertical-align: top;\n",
              "    }\n",
              "\n",
              "    .dataframe thead th {\n",
              "        text-align: right;\n",
              "    }\n",
              "</style>\n",
              "<table border=\"1\" class=\"dataframe\">\n",
              "  <thead>\n",
              "    <tr style=\"text-align: right;\">\n",
              "      <th></th>\n",
              "      <th>연도</th>\n",
              "      <th>제품1</th>\n",
              "      <th>제품2</th>\n",
              "      <th>제품3</th>\n",
              "      <th>제품4</th>\n",
              "    </tr>\n",
              "  </thead>\n",
              "  <tbody>\n",
              "    <tr>\n",
              "      <th>0</th>\n",
              "      <td>2015</td>\n",
              "      <td>250.0</td>\n",
              "      <td>150</td>\n",
              "      <td>NaN</td>\n",
              "      <td>NaN</td>\n",
              "    </tr>\n",
              "    <tr>\n",
              "      <th>1</th>\n",
              "      <td>2016</td>\n",
              "      <td>200.0</td>\n",
              "      <td>160</td>\n",
              "      <td>170.0</td>\n",
              "      <td>NaN</td>\n",
              "    </tr>\n",
              "    <tr>\n",
              "      <th>2</th>\n",
              "      <td>2017</td>\n",
              "      <td>150.0</td>\n",
              "      <td>200</td>\n",
              "      <td>100.0</td>\n",
              "      <td>150.0</td>\n",
              "    </tr>\n",
              "    <tr>\n",
              "      <th>3</th>\n",
              "      <td>2018</td>\n",
              "      <td>120.0</td>\n",
              "      <td>230</td>\n",
              "      <td>130.0</td>\n",
              "      <td>170.0</td>\n",
              "    </tr>\n",
              "    <tr>\n",
              "      <th>4</th>\n",
              "      <td>2019</td>\n",
              "      <td>NaN</td>\n",
              "      <td>250</td>\n",
              "      <td>140.0</td>\n",
              "      <td>NaN</td>\n",
              "    </tr>\n",
              "  </tbody>\n",
              "</table>\n",
              "</div>"
            ],
            "text/plain": [
              "     연도    제품1  제품2    제품3    제품4\n",
              "0  2015  250.0  150    NaN    NaN\n",
              "1  2016  200.0  160  170.0    NaN\n",
              "2  2017  150.0  200  100.0  150.0\n",
              "3  2018  120.0  230  130.0  170.0\n",
              "4  2019    NaN  250  140.0    NaN"
            ]
          },
          "execution_count": 77,
          "metadata": {},
          "output_type": "execute_result"
        }
      ],
      "source": [
        "df_copy"
      ]
    },
    {
      "cell_type": "code",
      "execution_count": null,
      "id": "aa6d5853",
      "metadata": {
        "id": "aa6d5853",
        "outputId": "5c990ad3-7a01-4dca-d377-1900b896e1bc"
      },
      "outputs": [
        {
          "data": {
            "text/html": [
              "<div>\n",
              "<style scoped>\n",
              "    .dataframe tbody tr th:only-of-type {\n",
              "        vertical-align: middle;\n",
              "    }\n",
              "\n",
              "    .dataframe tbody tr th {\n",
              "        vertical-align: top;\n",
              "    }\n",
              "\n",
              "    .dataframe thead th {\n",
              "        text-align: right;\n",
              "    }\n",
              "</style>\n",
              "<table border=\"1\" class=\"dataframe\">\n",
              "  <thead>\n",
              "    <tr style=\"text-align: right;\">\n",
              "      <th></th>\n",
              "      <th>연도</th>\n",
              "      <th>제품1</th>\n",
              "      <th>제품2</th>\n",
              "      <th>제품3</th>\n",
              "      <th>제품4</th>\n",
              "    </tr>\n",
              "  </thead>\n",
              "  <tbody>\n",
              "    <tr>\n",
              "      <th>2</th>\n",
              "      <td>2017</td>\n",
              "      <td>150.0</td>\n",
              "      <td>200</td>\n",
              "      <td>100.0</td>\n",
              "      <td>150.0</td>\n",
              "    </tr>\n",
              "    <tr>\n",
              "      <th>3</th>\n",
              "      <td>2018</td>\n",
              "      <td>120.0</td>\n",
              "      <td>230</td>\n",
              "      <td>130.0</td>\n",
              "      <td>170.0</td>\n",
              "    </tr>\n",
              "  </tbody>\n",
              "</table>\n",
              "</div>"
            ],
            "text/plain": [
              "     연도    제품1  제품2    제품3    제품4\n",
              "2  2017  150.0  200  100.0  150.0\n",
              "3  2018  120.0  230  130.0  170.0"
            ]
          },
          "execution_count": 78,
          "metadata": {},
          "output_type": "execute_result"
        }
      ],
      "source": [
        "df_copy.dropna()"
      ]
    },
    {
      "cell_type": "code",
      "execution_count": null,
      "id": "68069a14",
      "metadata": {
        "id": "68069a14"
      },
      "outputs": [],
      "source": [
        "df_copy2=df.copy()"
      ]
    },
    {
      "cell_type": "code",
      "execution_count": null,
      "id": "57f2264b",
      "metadata": {
        "id": "57f2264b",
        "outputId": "f2d5f060-6fc7-4973-bc5d-71c4f3417df1"
      },
      "outputs": [
        {
          "data": {
            "text/html": [
              "<div>\n",
              "<style scoped>\n",
              "    .dataframe tbody tr th:only-of-type {\n",
              "        vertical-align: middle;\n",
              "    }\n",
              "\n",
              "    .dataframe tbody tr th {\n",
              "        vertical-align: top;\n",
              "    }\n",
              "\n",
              "    .dataframe thead th {\n",
              "        text-align: right;\n",
              "    }\n",
              "</style>\n",
              "<table border=\"1\" class=\"dataframe\">\n",
              "  <thead>\n",
              "    <tr style=\"text-align: right;\">\n",
              "      <th></th>\n",
              "      <th>연도</th>\n",
              "      <th>제품1</th>\n",
              "      <th>제품2</th>\n",
              "      <th>제품3</th>\n",
              "      <th>제품4</th>\n",
              "    </tr>\n",
              "  </thead>\n",
              "  <tbody>\n",
              "    <tr>\n",
              "      <th>0</th>\n",
              "      <td>2015</td>\n",
              "      <td>250.0</td>\n",
              "      <td>150</td>\n",
              "      <td>NaN</td>\n",
              "      <td>NaN</td>\n",
              "    </tr>\n",
              "    <tr>\n",
              "      <th>1</th>\n",
              "      <td>2016</td>\n",
              "      <td>200.0</td>\n",
              "      <td>160</td>\n",
              "      <td>170.0</td>\n",
              "      <td>NaN</td>\n",
              "    </tr>\n",
              "    <tr>\n",
              "      <th>2</th>\n",
              "      <td>2017</td>\n",
              "      <td>150.0</td>\n",
              "      <td>200</td>\n",
              "      <td>100.0</td>\n",
              "      <td>150.0</td>\n",
              "    </tr>\n",
              "    <tr>\n",
              "      <th>3</th>\n",
              "      <td>2018</td>\n",
              "      <td>120.0</td>\n",
              "      <td>230</td>\n",
              "      <td>130.0</td>\n",
              "      <td>170.0</td>\n",
              "    </tr>\n",
              "    <tr>\n",
              "      <th>4</th>\n",
              "      <td>2019</td>\n",
              "      <td>NaN</td>\n",
              "      <td>250</td>\n",
              "      <td>140.0</td>\n",
              "      <td>NaN</td>\n",
              "    </tr>\n",
              "  </tbody>\n",
              "</table>\n",
              "</div>"
            ],
            "text/plain": [
              "     연도    제품1  제품2    제품3    제품4\n",
              "0  2015  250.0  150    NaN    NaN\n",
              "1  2016  200.0  160  170.0    NaN\n",
              "2  2017  150.0  200  100.0  150.0\n",
              "3  2018  120.0  230  130.0  170.0\n",
              "4  2019    NaN  250  140.0    NaN"
            ]
          },
          "execution_count": 80,
          "metadata": {},
          "output_type": "execute_result"
        }
      ],
      "source": [
        "df_copy2"
      ]
    },
    {
      "cell_type": "code",
      "execution_count": null,
      "id": "28720d00",
      "metadata": {
        "id": "28720d00",
        "outputId": "5447686e-9003-4ded-c326-f98dc2d62783"
      },
      "outputs": [
        {
          "data": {
            "text/html": [
              "<div>\n",
              "<style scoped>\n",
              "    .dataframe tbody tr th:only-of-type {\n",
              "        vertical-align: middle;\n",
              "    }\n",
              "\n",
              "    .dataframe tbody tr th {\n",
              "        vertical-align: top;\n",
              "    }\n",
              "\n",
              "    .dataframe thead th {\n",
              "        text-align: right;\n",
              "    }\n",
              "</style>\n",
              "<table border=\"1\" class=\"dataframe\">\n",
              "  <thead>\n",
              "    <tr style=\"text-align: right;\">\n",
              "      <th></th>\n",
              "      <th>연도</th>\n",
              "      <th>제품2</th>\n",
              "    </tr>\n",
              "  </thead>\n",
              "  <tbody>\n",
              "    <tr>\n",
              "      <th>0</th>\n",
              "      <td>2015</td>\n",
              "      <td>150</td>\n",
              "    </tr>\n",
              "    <tr>\n",
              "      <th>1</th>\n",
              "      <td>2016</td>\n",
              "      <td>160</td>\n",
              "    </tr>\n",
              "    <tr>\n",
              "      <th>2</th>\n",
              "      <td>2017</td>\n",
              "      <td>200</td>\n",
              "    </tr>\n",
              "    <tr>\n",
              "      <th>3</th>\n",
              "      <td>2018</td>\n",
              "      <td>230</td>\n",
              "    </tr>\n",
              "    <tr>\n",
              "      <th>4</th>\n",
              "      <td>2019</td>\n",
              "      <td>250</td>\n",
              "    </tr>\n",
              "  </tbody>\n",
              "</table>\n",
              "</div>"
            ],
            "text/plain": [
              "     연도  제품2\n",
              "0  2015  150\n",
              "1  2016  160\n",
              "2  2017  200\n",
              "3  2018  230\n",
              "4  2019  250"
            ]
          },
          "execution_count": 81,
          "metadata": {},
          "output_type": "execute_result"
        }
      ],
      "source": [
        "df_copy2.dropna(axis=1)"
      ]
    },
    {
      "cell_type": "code",
      "execution_count": null,
      "id": "f9ac0873",
      "metadata": {
        "id": "f9ac0873"
      },
      "outputs": [],
      "source": [
        "df_copy2_index=df_copy2.set_index('연도')"
      ]
    },
    {
      "cell_type": "code",
      "execution_count": null,
      "id": "769108ff",
      "metadata": {
        "id": "769108ff",
        "outputId": "a0438e38-8678-49cf-b979-cb42f91f7c18"
      },
      "outputs": [
        {
          "data": {
            "text/html": [
              "<div>\n",
              "<style scoped>\n",
              "    .dataframe tbody tr th:only-of-type {\n",
              "        vertical-align: middle;\n",
              "    }\n",
              "\n",
              "    .dataframe tbody tr th {\n",
              "        vertical-align: top;\n",
              "    }\n",
              "\n",
              "    .dataframe thead th {\n",
              "        text-align: right;\n",
              "    }\n",
              "</style>\n",
              "<table border=\"1\" class=\"dataframe\">\n",
              "  <thead>\n",
              "    <tr style=\"text-align: right;\">\n",
              "      <th></th>\n",
              "      <th>제품1</th>\n",
              "      <th>제품2</th>\n",
              "      <th>제품3</th>\n",
              "      <th>제품4</th>\n",
              "    </tr>\n",
              "    <tr>\n",
              "      <th>연도</th>\n",
              "      <th></th>\n",
              "      <th></th>\n",
              "      <th></th>\n",
              "      <th></th>\n",
              "    </tr>\n",
              "  </thead>\n",
              "  <tbody>\n",
              "    <tr>\n",
              "      <th>2015</th>\n",
              "      <td>250.0</td>\n",
              "      <td>150</td>\n",
              "      <td>NaN</td>\n",
              "      <td>NaN</td>\n",
              "    </tr>\n",
              "    <tr>\n",
              "      <th>2016</th>\n",
              "      <td>200.0</td>\n",
              "      <td>160</td>\n",
              "      <td>170.0</td>\n",
              "      <td>NaN</td>\n",
              "    </tr>\n",
              "    <tr>\n",
              "      <th>2017</th>\n",
              "      <td>150.0</td>\n",
              "      <td>200</td>\n",
              "      <td>100.0</td>\n",
              "      <td>150.0</td>\n",
              "    </tr>\n",
              "    <tr>\n",
              "      <th>2018</th>\n",
              "      <td>120.0</td>\n",
              "      <td>230</td>\n",
              "      <td>130.0</td>\n",
              "      <td>170.0</td>\n",
              "    </tr>\n",
              "    <tr>\n",
              "      <th>2019</th>\n",
              "      <td>NaN</td>\n",
              "      <td>250</td>\n",
              "      <td>140.0</td>\n",
              "      <td>NaN</td>\n",
              "    </tr>\n",
              "  </tbody>\n",
              "</table>\n",
              "</div>"
            ],
            "text/plain": [
              "        제품1  제품2    제품3    제품4\n",
              "연도                            \n",
              "2015  250.0  150    NaN    NaN\n",
              "2016  200.0  160  170.0    NaN\n",
              "2017  150.0  200  100.0  150.0\n",
              "2018  120.0  230  130.0  170.0\n",
              "2019    NaN  250  140.0    NaN"
            ]
          },
          "execution_count": 83,
          "metadata": {},
          "output_type": "execute_result"
        }
      ],
      "source": [
        "df_copy2_index"
      ]
    },
    {
      "cell_type": "code",
      "execution_count": null,
      "id": "1649ddbf",
      "metadata": {
        "id": "1649ddbf",
        "outputId": "445d3e5a-7a63-4da9-cb19-807314f8b75a"
      },
      "outputs": [
        {
          "data": {
            "text/html": [
              "<div>\n",
              "<style scoped>\n",
              "    .dataframe tbody tr th:only-of-type {\n",
              "        vertical-align: middle;\n",
              "    }\n",
              "\n",
              "    .dataframe tbody tr th {\n",
              "        vertical-align: top;\n",
              "    }\n",
              "\n",
              "    .dataframe thead th {\n",
              "        text-align: right;\n",
              "    }\n",
              "</style>\n",
              "<table border=\"1\" class=\"dataframe\">\n",
              "  <thead>\n",
              "    <tr style=\"text-align: right;\">\n",
              "      <th></th>\n",
              "      <th>제품1</th>\n",
              "      <th>제품2</th>\n",
              "    </tr>\n",
              "    <tr>\n",
              "      <th>연도</th>\n",
              "      <th></th>\n",
              "      <th></th>\n",
              "    </tr>\n",
              "  </thead>\n",
              "  <tbody>\n",
              "    <tr>\n",
              "      <th>2015</th>\n",
              "      <td>250.0</td>\n",
              "      <td>150</td>\n",
              "    </tr>\n",
              "    <tr>\n",
              "      <th>2016</th>\n",
              "      <td>200.0</td>\n",
              "      <td>160</td>\n",
              "    </tr>\n",
              "    <tr>\n",
              "      <th>2017</th>\n",
              "      <td>150.0</td>\n",
              "      <td>200</td>\n",
              "    </tr>\n",
              "    <tr>\n",
              "      <th>2018</th>\n",
              "      <td>120.0</td>\n",
              "      <td>230</td>\n",
              "    </tr>\n",
              "    <tr>\n",
              "      <th>2019</th>\n",
              "      <td>NaN</td>\n",
              "      <td>250</td>\n",
              "    </tr>\n",
              "  </tbody>\n",
              "</table>\n",
              "</div>"
            ],
            "text/plain": [
              "        제품1  제품2\n",
              "연도              \n",
              "2015  250.0  150\n",
              "2016  200.0  160\n",
              "2017  150.0  200\n",
              "2018  120.0  230\n",
              "2019    NaN  250"
            ]
          },
          "execution_count": 84,
          "metadata": {},
          "output_type": "execute_result"
        }
      ],
      "source": [
        "df_copy2_index.dropna(axis=1, subset=[2015])"
      ]
    },
    {
      "cell_type": "code",
      "execution_count": null,
      "id": "8247f828",
      "metadata": {
        "id": "8247f828",
        "outputId": "f961ccd2-e6f8-4cd5-d66f-2049bedc672c"
      },
      "outputs": [
        {
          "data": {
            "text/html": [
              "<div>\n",
              "<style scoped>\n",
              "    .dataframe tbody tr th:only-of-type {\n",
              "        vertical-align: middle;\n",
              "    }\n",
              "\n",
              "    .dataframe tbody tr th {\n",
              "        vertical-align: top;\n",
              "    }\n",
              "\n",
              "    .dataframe thead th {\n",
              "        text-align: right;\n",
              "    }\n",
              "</style>\n",
              "<table border=\"1\" class=\"dataframe\">\n",
              "  <thead>\n",
              "    <tr style=\"text-align: right;\">\n",
              "      <th></th>\n",
              "      <th>제품2</th>\n",
              "      <th>제품3</th>\n",
              "    </tr>\n",
              "    <tr>\n",
              "      <th>연도</th>\n",
              "      <th></th>\n",
              "      <th></th>\n",
              "    </tr>\n",
              "  </thead>\n",
              "  <tbody>\n",
              "    <tr>\n",
              "      <th>2015</th>\n",
              "      <td>150</td>\n",
              "      <td>NaN</td>\n",
              "    </tr>\n",
              "    <tr>\n",
              "      <th>2016</th>\n",
              "      <td>160</td>\n",
              "      <td>170.0</td>\n",
              "    </tr>\n",
              "    <tr>\n",
              "      <th>2017</th>\n",
              "      <td>200</td>\n",
              "      <td>100.0</td>\n",
              "    </tr>\n",
              "    <tr>\n",
              "      <th>2018</th>\n",
              "      <td>230</td>\n",
              "      <td>130.0</td>\n",
              "    </tr>\n",
              "    <tr>\n",
              "      <th>2019</th>\n",
              "      <td>250</td>\n",
              "      <td>140.0</td>\n",
              "    </tr>\n",
              "  </tbody>\n",
              "</table>\n",
              "</div>"
            ],
            "text/plain": [
              "      제품2    제품3\n",
              "연도              \n",
              "2015  150    NaN\n",
              "2016  160  170.0\n",
              "2017  200  100.0\n",
              "2018  230  130.0\n",
              "2019  250  140.0"
            ]
          },
          "execution_count": 85,
          "metadata": {},
          "output_type": "execute_result"
        }
      ],
      "source": [
        "df_copy2_index.dropna(axis=1, subset=[2016,2019])"
      ]
    },
    {
      "cell_type": "code",
      "execution_count": null,
      "id": "64668ca3",
      "metadata": {
        "id": "64668ca3",
        "outputId": "617fea6f-6220-4a8f-c232-c65322f3af23"
      },
      "outputs": [
        {
          "data": {
            "text/html": [
              "<div>\n",
              "<style scoped>\n",
              "    .dataframe tbody tr th:only-of-type {\n",
              "        vertical-align: middle;\n",
              "    }\n",
              "\n",
              "    .dataframe tbody tr th {\n",
              "        vertical-align: top;\n",
              "    }\n",
              "\n",
              "    .dataframe thead th {\n",
              "        text-align: right;\n",
              "    }\n",
              "</style>\n",
              "<table border=\"1\" class=\"dataframe\">\n",
              "  <thead>\n",
              "    <tr style=\"text-align: right;\">\n",
              "      <th></th>\n",
              "      <th>연도</th>\n",
              "      <th>제품1</th>\n",
              "      <th>제품2</th>\n",
              "      <th>제품3</th>\n",
              "      <th>제품4</th>\n",
              "    </tr>\n",
              "  </thead>\n",
              "  <tbody>\n",
              "    <tr>\n",
              "      <th>0</th>\n",
              "      <td>2015</td>\n",
              "      <td>250.0</td>\n",
              "      <td>150</td>\n",
              "      <td>NaN</td>\n",
              "      <td>NaN</td>\n",
              "    </tr>\n",
              "    <tr>\n",
              "      <th>1</th>\n",
              "      <td>2016</td>\n",
              "      <td>200.0</td>\n",
              "      <td>160</td>\n",
              "      <td>170.0</td>\n",
              "      <td>NaN</td>\n",
              "    </tr>\n",
              "    <tr>\n",
              "      <th>2</th>\n",
              "      <td>2017</td>\n",
              "      <td>150.0</td>\n",
              "      <td>200</td>\n",
              "      <td>100.0</td>\n",
              "      <td>150.0</td>\n",
              "    </tr>\n",
              "    <tr>\n",
              "      <th>3</th>\n",
              "      <td>2018</td>\n",
              "      <td>120.0</td>\n",
              "      <td>230</td>\n",
              "      <td>130.0</td>\n",
              "      <td>170.0</td>\n",
              "    </tr>\n",
              "    <tr>\n",
              "      <th>4</th>\n",
              "      <td>2019</td>\n",
              "      <td>NaN</td>\n",
              "      <td>250</td>\n",
              "      <td>140.0</td>\n",
              "      <td>NaN</td>\n",
              "    </tr>\n",
              "  </tbody>\n",
              "</table>\n",
              "</div>"
            ],
            "text/plain": [
              "     연도    제품1  제품2    제품3    제품4\n",
              "0  2015  250.0  150    NaN    NaN\n",
              "1  2016  200.0  160  170.0    NaN\n",
              "2  2017  150.0  200  100.0  150.0\n",
              "3  2018  120.0  230  130.0  170.0\n",
              "4  2019    NaN  250  140.0    NaN"
            ]
          },
          "execution_count": 86,
          "metadata": {},
          "output_type": "execute_result"
        }
      ],
      "source": [
        "df"
      ]
    },
    {
      "cell_type": "code",
      "execution_count": null,
      "id": "a06d04d5",
      "metadata": {
        "id": "a06d04d5",
        "outputId": "b6602568-aa48-4e99-a2de-ff2bd865386c"
      },
      "outputs": [
        {
          "data": {
            "text/html": [
              "<div>\n",
              "<style scoped>\n",
              "    .dataframe tbody tr th:only-of-type {\n",
              "        vertical-align: middle;\n",
              "    }\n",
              "\n",
              "    .dataframe tbody tr th {\n",
              "        vertical-align: top;\n",
              "    }\n",
              "\n",
              "    .dataframe thead th {\n",
              "        text-align: right;\n",
              "    }\n",
              "</style>\n",
              "<table border=\"1\" class=\"dataframe\">\n",
              "  <thead>\n",
              "    <tr style=\"text-align: right;\">\n",
              "      <th></th>\n",
              "      <th>연도</th>\n",
              "      <th>제품1</th>\n",
              "      <th>제품2</th>\n",
              "      <th>제품3</th>\n",
              "      <th>제품4</th>\n",
              "    </tr>\n",
              "  </thead>\n",
              "  <tbody>\n",
              "    <tr>\n",
              "      <th>0</th>\n",
              "      <td>2015</td>\n",
              "      <td>250.0</td>\n",
              "      <td>150</td>\n",
              "      <td>0.0</td>\n",
              "      <td>0.0</td>\n",
              "    </tr>\n",
              "    <tr>\n",
              "      <th>1</th>\n",
              "      <td>2016</td>\n",
              "      <td>200.0</td>\n",
              "      <td>160</td>\n",
              "      <td>170.0</td>\n",
              "      <td>0.0</td>\n",
              "    </tr>\n",
              "    <tr>\n",
              "      <th>2</th>\n",
              "      <td>2017</td>\n",
              "      <td>150.0</td>\n",
              "      <td>200</td>\n",
              "      <td>100.0</td>\n",
              "      <td>150.0</td>\n",
              "    </tr>\n",
              "    <tr>\n",
              "      <th>3</th>\n",
              "      <td>2018</td>\n",
              "      <td>120.0</td>\n",
              "      <td>230</td>\n",
              "      <td>130.0</td>\n",
              "      <td>170.0</td>\n",
              "    </tr>\n",
              "    <tr>\n",
              "      <th>4</th>\n",
              "      <td>2019</td>\n",
              "      <td>0.0</td>\n",
              "      <td>250</td>\n",
              "      <td>140.0</td>\n",
              "      <td>0.0</td>\n",
              "    </tr>\n",
              "  </tbody>\n",
              "</table>\n",
              "</div>"
            ],
            "text/plain": [
              "     연도    제품1  제품2    제품3    제품4\n",
              "0  2015  250.0  150    0.0    0.0\n",
              "1  2016  200.0  160  170.0    0.0\n",
              "2  2017  150.0  200  100.0  150.0\n",
              "3  2018  120.0  230  130.0  170.0\n",
              "4  2019    0.0  250  140.0    0.0"
            ]
          },
          "execution_count": 87,
          "metadata": {},
          "output_type": "execute_result"
        }
      ],
      "source": [
        "df.fillna(0)"
      ]
    },
    {
      "cell_type": "code",
      "execution_count": null,
      "id": "aa4e03ae",
      "metadata": {
        "id": "aa4e03ae",
        "outputId": "1cd356c7-05eb-487a-bcf8-a9031d012e70"
      },
      "outputs": [
        {
          "data": {
            "text/html": [
              "<div>\n",
              "<style scoped>\n",
              "    .dataframe tbody tr th:only-of-type {\n",
              "        vertical-align: middle;\n",
              "    }\n",
              "\n",
              "    .dataframe tbody tr th {\n",
              "        vertical-align: top;\n",
              "    }\n",
              "\n",
              "    .dataframe thead th {\n",
              "        text-align: right;\n",
              "    }\n",
              "</style>\n",
              "<table border=\"1\" class=\"dataframe\">\n",
              "  <thead>\n",
              "    <tr style=\"text-align: right;\">\n",
              "      <th></th>\n",
              "      <th>연도</th>\n",
              "      <th>제품1</th>\n",
              "      <th>제품2</th>\n",
              "      <th>제품3</th>\n",
              "      <th>제품4</th>\n",
              "    </tr>\n",
              "  </thead>\n",
              "  <tbody>\n",
              "    <tr>\n",
              "      <th>0</th>\n",
              "      <td>2015</td>\n",
              "      <td>250.0</td>\n",
              "      <td>150</td>\n",
              "      <td>NaN</td>\n",
              "      <td>NaN</td>\n",
              "    </tr>\n",
              "    <tr>\n",
              "      <th>1</th>\n",
              "      <td>2016</td>\n",
              "      <td>200.0</td>\n",
              "      <td>160</td>\n",
              "      <td>170.0</td>\n",
              "      <td>NaN</td>\n",
              "    </tr>\n",
              "    <tr>\n",
              "      <th>2</th>\n",
              "      <td>2017</td>\n",
              "      <td>150.0</td>\n",
              "      <td>200</td>\n",
              "      <td>100.0</td>\n",
              "      <td>150.0</td>\n",
              "    </tr>\n",
              "    <tr>\n",
              "      <th>3</th>\n",
              "      <td>2018</td>\n",
              "      <td>120.0</td>\n",
              "      <td>230</td>\n",
              "      <td>130.0</td>\n",
              "      <td>170.0</td>\n",
              "    </tr>\n",
              "    <tr>\n",
              "      <th>4</th>\n",
              "      <td>2019</td>\n",
              "      <td>NaN</td>\n",
              "      <td>250</td>\n",
              "      <td>140.0</td>\n",
              "      <td>NaN</td>\n",
              "    </tr>\n",
              "  </tbody>\n",
              "</table>\n",
              "</div>"
            ],
            "text/plain": [
              "     연도    제품1  제품2    제품3    제품4\n",
              "0  2015  250.0  150    NaN    NaN\n",
              "1  2016  200.0  160  170.0    NaN\n",
              "2  2017  150.0  200  100.0  150.0\n",
              "3  2018  120.0  230  130.0  170.0\n",
              "4  2019    NaN  250  140.0    NaN"
            ]
          },
          "execution_count": 88,
          "metadata": {},
          "output_type": "execute_result"
        }
      ],
      "source": [
        "df"
      ]
    },
    {
      "cell_type": "code",
      "execution_count": null,
      "id": "c49d4018",
      "metadata": {
        "id": "c49d4018",
        "outputId": "7446361b-7d9c-4062-cb7f-0d28e1cb2adb"
      },
      "outputs": [
        {
          "data": {
            "text/html": [
              "<div>\n",
              "<style scoped>\n",
              "    .dataframe tbody tr th:only-of-type {\n",
              "        vertical-align: middle;\n",
              "    }\n",
              "\n",
              "    .dataframe tbody tr th {\n",
              "        vertical-align: top;\n",
              "    }\n",
              "\n",
              "    .dataframe thead th {\n",
              "        text-align: right;\n",
              "    }\n",
              "</style>\n",
              "<table border=\"1\" class=\"dataframe\">\n",
              "  <thead>\n",
              "    <tr style=\"text-align: right;\">\n",
              "      <th></th>\n",
              "      <th>연도</th>\n",
              "      <th>제품1</th>\n",
              "      <th>제품2</th>\n",
              "      <th>제품3</th>\n",
              "      <th>제품4</th>\n",
              "    </tr>\n",
              "  </thead>\n",
              "  <tbody>\n",
              "    <tr>\n",
              "      <th>0</th>\n",
              "      <td>2015</td>\n",
              "      <td>250.0</td>\n",
              "      <td>150</td>\n",
              "      <td>170.0</td>\n",
              "      <td>150.0</td>\n",
              "    </tr>\n",
              "    <tr>\n",
              "      <th>1</th>\n",
              "      <td>2016</td>\n",
              "      <td>200.0</td>\n",
              "      <td>160</td>\n",
              "      <td>170.0</td>\n",
              "      <td>150.0</td>\n",
              "    </tr>\n",
              "    <tr>\n",
              "      <th>2</th>\n",
              "      <td>2017</td>\n",
              "      <td>150.0</td>\n",
              "      <td>200</td>\n",
              "      <td>100.0</td>\n",
              "      <td>150.0</td>\n",
              "    </tr>\n",
              "    <tr>\n",
              "      <th>3</th>\n",
              "      <td>2018</td>\n",
              "      <td>120.0</td>\n",
              "      <td>230</td>\n",
              "      <td>130.0</td>\n",
              "      <td>170.0</td>\n",
              "    </tr>\n",
              "    <tr>\n",
              "      <th>4</th>\n",
              "      <td>2019</td>\n",
              "      <td>NaN</td>\n",
              "      <td>250</td>\n",
              "      <td>140.0</td>\n",
              "      <td>NaN</td>\n",
              "    </tr>\n",
              "  </tbody>\n",
              "</table>\n",
              "</div>"
            ],
            "text/plain": [
              "     연도    제품1  제품2    제품3    제품4\n",
              "0  2015  250.0  150  170.0  150.0\n",
              "1  2016  200.0  160  170.0  150.0\n",
              "2  2017  150.0  200  100.0  150.0\n",
              "3  2018  120.0  230  130.0  170.0\n",
              "4  2019    NaN  250  140.0    NaN"
            ]
          },
          "execution_count": 89,
          "metadata": {},
          "output_type": "execute_result"
        }
      ],
      "source": [
        "df.fillna(method='bfill')"
      ]
    },
    {
      "cell_type": "code",
      "execution_count": null,
      "id": "d8aa5b36",
      "metadata": {
        "id": "d8aa5b36",
        "outputId": "6894965d-a0eb-4b2d-b094-71ad52a0338a"
      },
      "outputs": [
        {
          "data": {
            "text/html": [
              "<div>\n",
              "<style scoped>\n",
              "    .dataframe tbody tr th:only-of-type {\n",
              "        vertical-align: middle;\n",
              "    }\n",
              "\n",
              "    .dataframe tbody tr th {\n",
              "        vertical-align: top;\n",
              "    }\n",
              "\n",
              "    .dataframe thead th {\n",
              "        text-align: right;\n",
              "    }\n",
              "</style>\n",
              "<table border=\"1\" class=\"dataframe\">\n",
              "  <thead>\n",
              "    <tr style=\"text-align: right;\">\n",
              "      <th></th>\n",
              "      <th>연도</th>\n",
              "      <th>제품1</th>\n",
              "      <th>제품2</th>\n",
              "      <th>제품3</th>\n",
              "      <th>제품4</th>\n",
              "    </tr>\n",
              "  </thead>\n",
              "  <tbody>\n",
              "    <tr>\n",
              "      <th>0</th>\n",
              "      <td>2015</td>\n",
              "      <td>250.0</td>\n",
              "      <td>150</td>\n",
              "      <td>NaN</td>\n",
              "      <td>NaN</td>\n",
              "    </tr>\n",
              "    <tr>\n",
              "      <th>1</th>\n",
              "      <td>2016</td>\n",
              "      <td>200.0</td>\n",
              "      <td>160</td>\n",
              "      <td>170.0</td>\n",
              "      <td>NaN</td>\n",
              "    </tr>\n",
              "    <tr>\n",
              "      <th>2</th>\n",
              "      <td>2017</td>\n",
              "      <td>150.0</td>\n",
              "      <td>200</td>\n",
              "      <td>100.0</td>\n",
              "      <td>150.0</td>\n",
              "    </tr>\n",
              "    <tr>\n",
              "      <th>3</th>\n",
              "      <td>2018</td>\n",
              "      <td>120.0</td>\n",
              "      <td>230</td>\n",
              "      <td>130.0</td>\n",
              "      <td>170.0</td>\n",
              "    </tr>\n",
              "    <tr>\n",
              "      <th>4</th>\n",
              "      <td>2019</td>\n",
              "      <td>NaN</td>\n",
              "      <td>250</td>\n",
              "      <td>140.0</td>\n",
              "      <td>NaN</td>\n",
              "    </tr>\n",
              "  </tbody>\n",
              "</table>\n",
              "</div>"
            ],
            "text/plain": [
              "     연도    제품1  제품2    제품3    제품4\n",
              "0  2015  250.0  150    NaN    NaN\n",
              "1  2016  200.0  160  170.0    NaN\n",
              "2  2017  150.0  200  100.0  150.0\n",
              "3  2018  120.0  230  130.0  170.0\n",
              "4  2019    NaN  250  140.0    NaN"
            ]
          },
          "execution_count": 90,
          "metadata": {},
          "output_type": "execute_result"
        }
      ],
      "source": [
        "df"
      ]
    },
    {
      "cell_type": "code",
      "execution_count": null,
      "id": "c701389d",
      "metadata": {
        "id": "c701389d",
        "outputId": "b722b568-b112-4af4-dd9a-cf60feacacb9"
      },
      "outputs": [
        {
          "data": {
            "text/html": [
              "<div>\n",
              "<style scoped>\n",
              "    .dataframe tbody tr th:only-of-type {\n",
              "        vertical-align: middle;\n",
              "    }\n",
              "\n",
              "    .dataframe tbody tr th {\n",
              "        vertical-align: top;\n",
              "    }\n",
              "\n",
              "    .dataframe thead th {\n",
              "        text-align: right;\n",
              "    }\n",
              "</style>\n",
              "<table border=\"1\" class=\"dataframe\">\n",
              "  <thead>\n",
              "    <tr style=\"text-align: right;\">\n",
              "      <th></th>\n",
              "      <th>연도</th>\n",
              "      <th>제품1</th>\n",
              "      <th>제품2</th>\n",
              "      <th>제품3</th>\n",
              "      <th>제품4</th>\n",
              "    </tr>\n",
              "  </thead>\n",
              "  <tbody>\n",
              "    <tr>\n",
              "      <th>0</th>\n",
              "      <td>2015</td>\n",
              "      <td>250.0</td>\n",
              "      <td>150</td>\n",
              "      <td>NaN</td>\n",
              "      <td>NaN</td>\n",
              "    </tr>\n",
              "    <tr>\n",
              "      <th>1</th>\n",
              "      <td>2016</td>\n",
              "      <td>200.0</td>\n",
              "      <td>160</td>\n",
              "      <td>170.0</td>\n",
              "      <td>NaN</td>\n",
              "    </tr>\n",
              "    <tr>\n",
              "      <th>2</th>\n",
              "      <td>2017</td>\n",
              "      <td>150.0</td>\n",
              "      <td>200</td>\n",
              "      <td>100.0</td>\n",
              "      <td>150.0</td>\n",
              "    </tr>\n",
              "    <tr>\n",
              "      <th>3</th>\n",
              "      <td>2018</td>\n",
              "      <td>120.0</td>\n",
              "      <td>230</td>\n",
              "      <td>130.0</td>\n",
              "      <td>170.0</td>\n",
              "    </tr>\n",
              "    <tr>\n",
              "      <th>4</th>\n",
              "      <td>2019</td>\n",
              "      <td>120.0</td>\n",
              "      <td>250</td>\n",
              "      <td>140.0</td>\n",
              "      <td>170.0</td>\n",
              "    </tr>\n",
              "  </tbody>\n",
              "</table>\n",
              "</div>"
            ],
            "text/plain": [
              "     연도    제품1  제품2    제품3    제품4\n",
              "0  2015  250.0  150    NaN    NaN\n",
              "1  2016  200.0  160  170.0    NaN\n",
              "2  2017  150.0  200  100.0  150.0\n",
              "3  2018  120.0  230  130.0  170.0\n",
              "4  2019  120.0  250  140.0  170.0"
            ]
          },
          "execution_count": 91,
          "metadata": {},
          "output_type": "execute_result"
        }
      ],
      "source": [
        "df.fillna(method='ffill')"
      ]
    },
    {
      "cell_type": "code",
      "execution_count": null,
      "id": "acfcc8db",
      "metadata": {
        "id": "acfcc8db",
        "outputId": "26962f08-45ea-4097-dd68-0c6c60c6c20b"
      },
      "outputs": [
        {
          "data": {
            "text/html": [
              "<div>\n",
              "<style scoped>\n",
              "    .dataframe tbody tr th:only-of-type {\n",
              "        vertical-align: middle;\n",
              "    }\n",
              "\n",
              "    .dataframe tbody tr th {\n",
              "        vertical-align: top;\n",
              "    }\n",
              "\n",
              "    .dataframe thead th {\n",
              "        text-align: right;\n",
              "    }\n",
              "</style>\n",
              "<table border=\"1\" class=\"dataframe\">\n",
              "  <thead>\n",
              "    <tr style=\"text-align: right;\">\n",
              "      <th></th>\n",
              "      <th>연도</th>\n",
              "      <th>제품1</th>\n",
              "      <th>제품2</th>\n",
              "      <th>제품3</th>\n",
              "      <th>제품4</th>\n",
              "    </tr>\n",
              "  </thead>\n",
              "  <tbody>\n",
              "    <tr>\n",
              "      <th>0</th>\n",
              "      <td>2015</td>\n",
              "      <td>250.0</td>\n",
              "      <td>150</td>\n",
              "      <td>NaN</td>\n",
              "      <td>NaN</td>\n",
              "    </tr>\n",
              "    <tr>\n",
              "      <th>1</th>\n",
              "      <td>2016</td>\n",
              "      <td>200.0</td>\n",
              "      <td>160</td>\n",
              "      <td>170.0</td>\n",
              "      <td>NaN</td>\n",
              "    </tr>\n",
              "    <tr>\n",
              "      <th>2</th>\n",
              "      <td>2017</td>\n",
              "      <td>150.0</td>\n",
              "      <td>200</td>\n",
              "      <td>100.0</td>\n",
              "      <td>150.0</td>\n",
              "    </tr>\n",
              "    <tr>\n",
              "      <th>3</th>\n",
              "      <td>2018</td>\n",
              "      <td>120.0</td>\n",
              "      <td>230</td>\n",
              "      <td>130.0</td>\n",
              "      <td>170.0</td>\n",
              "    </tr>\n",
              "    <tr>\n",
              "      <th>4</th>\n",
              "      <td>2019</td>\n",
              "      <td>NaN</td>\n",
              "      <td>250</td>\n",
              "      <td>140.0</td>\n",
              "      <td>NaN</td>\n",
              "    </tr>\n",
              "  </tbody>\n",
              "</table>\n",
              "</div>"
            ],
            "text/plain": [
              "     연도    제품1  제품2    제품3    제품4\n",
              "0  2015  250.0  150    NaN    NaN\n",
              "1  2016  200.0  160  170.0    NaN\n",
              "2  2017  150.0  200  100.0  150.0\n",
              "3  2018  120.0  230  130.0  170.0\n",
              "4  2019    NaN  250  140.0    NaN"
            ]
          },
          "execution_count": 92,
          "metadata": {},
          "output_type": "execute_result"
        }
      ],
      "source": [
        "df"
      ]
    },
    {
      "cell_type": "code",
      "execution_count": null,
      "id": "287169b2",
      "metadata": {
        "id": "287169b2",
        "outputId": "df0ca108-d999-4e37-b502-3852304fa8d5"
      },
      "outputs": [
        {
          "data": {
            "text/html": [
              "<div>\n",
              "<style scoped>\n",
              "    .dataframe tbody tr th:only-of-type {\n",
              "        vertical-align: middle;\n",
              "    }\n",
              "\n",
              "    .dataframe tbody tr th {\n",
              "        vertical-align: top;\n",
              "    }\n",
              "\n",
              "    .dataframe thead th {\n",
              "        text-align: right;\n",
              "    }\n",
              "</style>\n",
              "<table border=\"1\" class=\"dataframe\">\n",
              "  <thead>\n",
              "    <tr style=\"text-align: right;\">\n",
              "      <th></th>\n",
              "      <th>연도</th>\n",
              "      <th>제품1</th>\n",
              "      <th>제품2</th>\n",
              "      <th>제품3</th>\n",
              "      <th>제품4</th>\n",
              "    </tr>\n",
              "  </thead>\n",
              "  <tbody>\n",
              "    <tr>\n",
              "      <th>0</th>\n",
              "      <td>2015</td>\n",
              "      <td>250.0</td>\n",
              "      <td>150</td>\n",
              "      <td>NaN</td>\n",
              "      <td>400.0</td>\n",
              "    </tr>\n",
              "    <tr>\n",
              "      <th>1</th>\n",
              "      <td>2016</td>\n",
              "      <td>200.0</td>\n",
              "      <td>160</td>\n",
              "      <td>170.0</td>\n",
              "      <td>400.0</td>\n",
              "    </tr>\n",
              "    <tr>\n",
              "      <th>2</th>\n",
              "      <td>2017</td>\n",
              "      <td>150.0</td>\n",
              "      <td>200</td>\n",
              "      <td>100.0</td>\n",
              "      <td>150.0</td>\n",
              "    </tr>\n",
              "    <tr>\n",
              "      <th>3</th>\n",
              "      <td>2018</td>\n",
              "      <td>120.0</td>\n",
              "      <td>230</td>\n",
              "      <td>130.0</td>\n",
              "      <td>170.0</td>\n",
              "    </tr>\n",
              "    <tr>\n",
              "      <th>4</th>\n",
              "      <td>2019</td>\n",
              "      <td>100.0</td>\n",
              "      <td>250</td>\n",
              "      <td>140.0</td>\n",
              "      <td>400.0</td>\n",
              "    </tr>\n",
              "  </tbody>\n",
              "</table>\n",
              "</div>"
            ],
            "text/plain": [
              "     연도    제품1  제품2    제품3    제품4\n",
              "0  2015  250.0  150    NaN  400.0\n",
              "1  2016  200.0  160  170.0  400.0\n",
              "2  2017  150.0  200  100.0  150.0\n",
              "3  2018  120.0  230  130.0  170.0\n",
              "4  2019  100.0  250  140.0  400.0"
            ]
          },
          "execution_count": 93,
          "metadata": {},
          "output_type": "execute_result"
        }
      ],
      "source": [
        "values={'제품1':100,'제품4':400}\n",
        "df.fillna(value=values)"
      ]
    },
    {
      "cell_type": "code",
      "execution_count": null,
      "id": "922b3a1b",
      "metadata": {
        "id": "922b3a1b",
        "outputId": "458b421a-b950-42cf-b9aa-f3038d3312e4"
      },
      "outputs": [
        {
          "data": {
            "text/html": [
              "<div>\n",
              "<style scoped>\n",
              "    .dataframe tbody tr th:only-of-type {\n",
              "        vertical-align: middle;\n",
              "    }\n",
              "\n",
              "    .dataframe tbody tr th {\n",
              "        vertical-align: top;\n",
              "    }\n",
              "\n",
              "    .dataframe thead th {\n",
              "        text-align: right;\n",
              "    }\n",
              "</style>\n",
              "<table border=\"1\" class=\"dataframe\">\n",
              "  <thead>\n",
              "    <tr style=\"text-align: right;\">\n",
              "      <th></th>\n",
              "      <th>연도</th>\n",
              "      <th>제품1</th>\n",
              "      <th>제품2</th>\n",
              "      <th>제품3</th>\n",
              "      <th>제품4</th>\n",
              "    </tr>\n",
              "  </thead>\n",
              "  <tbody>\n",
              "    <tr>\n",
              "      <th>0</th>\n",
              "      <td>2015</td>\n",
              "      <td>250.0</td>\n",
              "      <td>150</td>\n",
              "      <td>NaN</td>\n",
              "      <td>NaN</td>\n",
              "    </tr>\n",
              "    <tr>\n",
              "      <th>1</th>\n",
              "      <td>2016</td>\n",
              "      <td>200.0</td>\n",
              "      <td>160</td>\n",
              "      <td>170.0</td>\n",
              "      <td>NaN</td>\n",
              "    </tr>\n",
              "    <tr>\n",
              "      <th>2</th>\n",
              "      <td>2017</td>\n",
              "      <td>150.0</td>\n",
              "      <td>200</td>\n",
              "      <td>100.0</td>\n",
              "      <td>150.0</td>\n",
              "    </tr>\n",
              "    <tr>\n",
              "      <th>3</th>\n",
              "      <td>2018</td>\n",
              "      <td>120.0</td>\n",
              "      <td>230</td>\n",
              "      <td>130.0</td>\n",
              "      <td>170.0</td>\n",
              "    </tr>\n",
              "    <tr>\n",
              "      <th>4</th>\n",
              "      <td>2019</td>\n",
              "      <td>NaN</td>\n",
              "      <td>250</td>\n",
              "      <td>140.0</td>\n",
              "      <td>NaN</td>\n",
              "    </tr>\n",
              "  </tbody>\n",
              "</table>\n",
              "</div>"
            ],
            "text/plain": [
              "     연도    제품1  제품2    제품3    제품4\n",
              "0  2015  250.0  150    NaN    NaN\n",
              "1  2016  200.0  160  170.0    NaN\n",
              "2  2017  150.0  200  100.0  150.0\n",
              "3  2018  120.0  230  130.0  170.0\n",
              "4  2019    NaN  250  140.0    NaN"
            ]
          },
          "execution_count": 94,
          "metadata": {},
          "output_type": "execute_result"
        }
      ],
      "source": [
        "df"
      ]
    },
    {
      "cell_type": "markdown",
      "id": "d380ca8b",
      "metadata": {
        "id": "d380ca8b"
      },
      "source": [
        "## 데이터의 요약 및 재구성\n",
        "### 데이터의 구조 살펴보기"
      ]
    },
    {
      "cell_type": "code",
      "execution_count": null,
      "id": "1b51d9e8",
      "metadata": {
        "id": "1b51d9e8"
      },
      "outputs": [],
      "source": [
        "data_file1 = \"C:/ex/py/pyPrj1/myPyCode/data/total_sales_data.csv\""
      ]
    },
    {
      "cell_type": "code",
      "execution_count": null,
      "id": "03961ba8",
      "metadata": {
        "id": "03961ba8"
      },
      "outputs": [],
      "source": [
        "df_sales = pd.read_csv(data_file1)"
      ]
    },
    {
      "cell_type": "code",
      "execution_count": null,
      "id": "b8d82cec",
      "metadata": {
        "id": "b8d82cec",
        "outputId": "dfc5f1f5-f1f8-4729-a3f3-edbfffb1cc6d"
      },
      "outputs": [
        {
          "data": {
            "text/html": [
              "<div>\n",
              "<style scoped>\n",
              "    .dataframe tbody tr th:only-of-type {\n",
              "        vertical-align: middle;\n",
              "    }\n",
              "\n",
              "    .dataframe tbody tr th {\n",
              "        vertical-align: top;\n",
              "    }\n",
              "\n",
              "    .dataframe thead th {\n",
              "        text-align: right;\n",
              "    }\n",
              "</style>\n",
              "<table border=\"1\" class=\"dataframe\">\n",
              "  <thead>\n",
              "    <tr style=\"text-align: right;\">\n",
              "      <th></th>\n",
              "      <th>매장명</th>\n",
              "      <th>제품종류</th>\n",
              "      <th>모델명</th>\n",
              "      <th>판매</th>\n",
              "      <th>재고</th>\n",
              "    </tr>\n",
              "  </thead>\n",
              "  <tbody>\n",
              "    <tr>\n",
              "      <th>0</th>\n",
              "      <td>A</td>\n",
              "      <td>스마트폰</td>\n",
              "      <td>S1</td>\n",
              "      <td>1</td>\n",
              "      <td>2</td>\n",
              "    </tr>\n",
              "    <tr>\n",
              "      <th>1</th>\n",
              "      <td>A</td>\n",
              "      <td>스마트폰</td>\n",
              "      <td>S2</td>\n",
              "      <td>2</td>\n",
              "      <td>5</td>\n",
              "    </tr>\n",
              "    <tr>\n",
              "      <th>2</th>\n",
              "      <td>A</td>\n",
              "      <td>TV</td>\n",
              "      <td>V1</td>\n",
              "      <td>3</td>\n",
              "      <td>5</td>\n",
              "    </tr>\n",
              "    <tr>\n",
              "      <th>3</th>\n",
              "      <td>B</td>\n",
              "      <td>스마트폰</td>\n",
              "      <td>S2</td>\n",
              "      <td>4</td>\n",
              "      <td>6</td>\n",
              "    </tr>\n",
              "    <tr>\n",
              "      <th>4</th>\n",
              "      <td>B</td>\n",
              "      <td>스마트폰</td>\n",
              "      <td>S1</td>\n",
              "      <td>5</td>\n",
              "      <td>8</td>\n",
              "    </tr>\n",
              "    <tr>\n",
              "      <th>5</th>\n",
              "      <td>B</td>\n",
              "      <td>TV</td>\n",
              "      <td>V1</td>\n",
              "      <td>6</td>\n",
              "      <td>9</td>\n",
              "    </tr>\n",
              "    <tr>\n",
              "      <th>6</th>\n",
              "      <td>C</td>\n",
              "      <td>스마트폰</td>\n",
              "      <td>S2</td>\n",
              "      <td>2</td>\n",
              "      <td>4</td>\n",
              "    </tr>\n",
              "    <tr>\n",
              "      <th>7</th>\n",
              "      <td>C</td>\n",
              "      <td>TV</td>\n",
              "      <td>V1</td>\n",
              "      <td>3</td>\n",
              "      <td>6</td>\n",
              "    </tr>\n",
              "    <tr>\n",
              "      <th>8</th>\n",
              "      <td>C</td>\n",
              "      <td>TV</td>\n",
              "      <td>V2</td>\n",
              "      <td>7</td>\n",
              "      <td>9</td>\n",
              "    </tr>\n",
              "  </tbody>\n",
              "</table>\n",
              "</div>"
            ],
            "text/plain": [
              "  매장명  제품종류 모델명  판매  재고\n",
              "0   A  스마트폰  S1   1   2\n",
              "1   A  스마트폰  S2   2   5\n",
              "2   A    TV  V1   3   5\n",
              "3   B  스마트폰  S2   4   6\n",
              "4   B  스마트폰  S1   5   8\n",
              "5   B    TV  V1   6   9\n",
              "6   C  스마트폰  S2   2   4\n",
              "7   C    TV  V1   3   6\n",
              "8   C    TV  V2   7   9"
            ]
          },
          "execution_count": 103,
          "metadata": {},
          "output_type": "execute_result"
        }
      ],
      "source": [
        "df_sales"
      ]
    },
    {
      "cell_type": "code",
      "execution_count": null,
      "id": "1dc19432",
      "metadata": {
        "id": "1dc19432",
        "outputId": "7678161b-092c-4e20-8b28-0873aae15fcb"
      },
      "outputs": [
        {
          "data": {
            "text/plain": [
              "Index(['매장명', '제품종류', '모델명', '판매', '재고'], dtype='object')"
            ]
          },
          "execution_count": 104,
          "metadata": {},
          "output_type": "execute_result"
        }
      ],
      "source": [
        "df_sales.columns"
      ]
    },
    {
      "cell_type": "code",
      "execution_count": null,
      "id": "a82f3297",
      "metadata": {
        "id": "a82f3297",
        "outputId": "1d7d69ab-77a8-4bd2-ecc2-b6c33f1d4bbb"
      },
      "outputs": [
        {
          "data": {
            "text/plain": [
              "0    S1\n",
              "1    S2\n",
              "2    V1\n",
              "3    S2\n",
              "4    S1\n",
              "5    V1\n",
              "6    S2\n",
              "7    V1\n",
              "8    V2\n",
              "Name: 모델명, dtype: object"
            ]
          },
          "execution_count": 105,
          "metadata": {},
          "output_type": "execute_result"
        }
      ],
      "source": [
        "df_sales.모델명"
      ]
    },
    {
      "cell_type": "code",
      "execution_count": null,
      "id": "10da276f",
      "metadata": {
        "id": "10da276f",
        "outputId": "cf573795-633b-40e4-b5a1-036d4fda951f"
      },
      "outputs": [
        {
          "data": {
            "text/html": [
              "<div>\n",
              "<style scoped>\n",
              "    .dataframe tbody tr th:only-of-type {\n",
              "        vertical-align: middle;\n",
              "    }\n",
              "\n",
              "    .dataframe tbody tr th {\n",
              "        vertical-align: top;\n",
              "    }\n",
              "\n",
              "    .dataframe thead th {\n",
              "        text-align: right;\n",
              "    }\n",
              "</style>\n",
              "<table border=\"1\" class=\"dataframe\">\n",
              "  <thead>\n",
              "    <tr style=\"text-align: right;\">\n",
              "      <th></th>\n",
              "      <th>판매</th>\n",
              "      <th>재고</th>\n",
              "    </tr>\n",
              "  </thead>\n",
              "  <tbody>\n",
              "    <tr>\n",
              "      <th>count</th>\n",
              "      <td>9.000000</td>\n",
              "      <td>9.000000</td>\n",
              "    </tr>\n",
              "    <tr>\n",
              "      <th>mean</th>\n",
              "      <td>3.666667</td>\n",
              "      <td>6.000000</td>\n",
              "    </tr>\n",
              "    <tr>\n",
              "      <th>std</th>\n",
              "      <td>2.000000</td>\n",
              "      <td>2.345208</td>\n",
              "    </tr>\n",
              "    <tr>\n",
              "      <th>min</th>\n",
              "      <td>1.000000</td>\n",
              "      <td>2.000000</td>\n",
              "    </tr>\n",
              "    <tr>\n",
              "      <th>25%</th>\n",
              "      <td>2.000000</td>\n",
              "      <td>5.000000</td>\n",
              "    </tr>\n",
              "    <tr>\n",
              "      <th>50%</th>\n",
              "      <td>3.000000</td>\n",
              "      <td>6.000000</td>\n",
              "    </tr>\n",
              "    <tr>\n",
              "      <th>75%</th>\n",
              "      <td>5.000000</td>\n",
              "      <td>8.000000</td>\n",
              "    </tr>\n",
              "    <tr>\n",
              "      <th>max</th>\n",
              "      <td>7.000000</td>\n",
              "      <td>9.000000</td>\n",
              "    </tr>\n",
              "  </tbody>\n",
              "</table>\n",
              "</div>"
            ],
            "text/plain": [
              "             판매        재고\n",
              "count  9.000000  9.000000\n",
              "mean   3.666667  6.000000\n",
              "std    2.000000  2.345208\n",
              "min    1.000000  2.000000\n",
              "25%    2.000000  5.000000\n",
              "50%    3.000000  6.000000\n",
              "75%    5.000000  8.000000\n",
              "max    7.000000  9.000000"
            ]
          },
          "execution_count": 106,
          "metadata": {},
          "output_type": "execute_result"
        }
      ],
      "source": [
        "df_sales.describe()"
      ]
    },
    {
      "cell_type": "code",
      "execution_count": null,
      "id": "8b39636c",
      "metadata": {
        "id": "8b39636c",
        "outputId": "a6676bf7-6512-4c6c-ff2f-1481334e65a1"
      },
      "outputs": [
        {
          "name": "stdout",
          "output_type": "stream",
          "text": [
            "<class 'pandas.core.frame.DataFrame'>\n",
            "RangeIndex: 9 entries, 0 to 8\n",
            "Data columns (total 5 columns):\n",
            " #   Column  Non-Null Count  Dtype \n",
            "---  ------  --------------  ----- \n",
            " 0   매장명     9 non-null      object\n",
            " 1   제품종류    9 non-null      object\n",
            " 2   모델명     9 non-null      object\n",
            " 3   판매      9 non-null      int64 \n",
            " 4   재고      9 non-null      int64 \n",
            "dtypes: int64(2), object(3)\n",
            "memory usage: 492.0+ bytes\n"
          ]
        }
      ],
      "source": [
        "df_sales.info()"
      ]
    },
    {
      "cell_type": "code",
      "execution_count": null,
      "id": "09ef9adb",
      "metadata": {
        "id": "09ef9adb",
        "outputId": "6e6378c1-bf30-4bfd-a054-48b2d0b5375b"
      },
      "outputs": [
        {
          "data": {
            "text/plain": [
              "매장명\n",
              "A    3\n",
              "B    3\n",
              "C    3\n",
              "Name: count, dtype: int64"
            ]
          },
          "execution_count": 108,
          "metadata": {},
          "output_type": "execute_result"
        }
      ],
      "source": [
        "df_sales['매장명'].value_counts()"
      ]
    },
    {
      "cell_type": "code",
      "execution_count": null,
      "id": "e06819fd",
      "metadata": {
        "id": "e06819fd",
        "outputId": "b922e26c-00f6-4577-8108-ea471e05d7a4"
      },
      "outputs": [
        {
          "data": {
            "text/plain": [
              "매장명\n",
              "A    3\n",
              "B    3\n",
              "C    3\n",
              "Name: count, dtype: int64"
            ]
          },
          "execution_count": 109,
          "metadata": {},
          "output_type": "execute_result"
        }
      ],
      "source": [
        "df_sales.매장명.value_counts()"
      ]
    },
    {
      "cell_type": "code",
      "execution_count": null,
      "id": "a3c3801a",
      "metadata": {
        "id": "a3c3801a",
        "outputId": "0b336f9e-d630-4aa6-d345-e5d4412b8737"
      },
      "outputs": [
        {
          "data": {
            "text/html": [
              "<div>\n",
              "<style scoped>\n",
              "    .dataframe tbody tr th:only-of-type {\n",
              "        vertical-align: middle;\n",
              "    }\n",
              "\n",
              "    .dataframe tbody tr th {\n",
              "        vertical-align: top;\n",
              "    }\n",
              "\n",
              "    .dataframe thead th {\n",
              "        text-align: right;\n",
              "    }\n",
              "</style>\n",
              "<table border=\"1\" class=\"dataframe\">\n",
              "  <thead>\n",
              "    <tr style=\"text-align: right;\">\n",
              "      <th></th>\n",
              "      <th>매장명</th>\n",
              "      <th>제품종류</th>\n",
              "      <th>모델명</th>\n",
              "      <th>판매</th>\n",
              "      <th>재고</th>\n",
              "    </tr>\n",
              "  </thead>\n",
              "  <tbody>\n",
              "    <tr>\n",
              "      <th>0</th>\n",
              "      <td>A</td>\n",
              "      <td>스마트폰</td>\n",
              "      <td>S1</td>\n",
              "      <td>1</td>\n",
              "      <td>2</td>\n",
              "    </tr>\n",
              "    <tr>\n",
              "      <th>1</th>\n",
              "      <td>A</td>\n",
              "      <td>스마트폰</td>\n",
              "      <td>S2</td>\n",
              "      <td>2</td>\n",
              "      <td>5</td>\n",
              "    </tr>\n",
              "    <tr>\n",
              "      <th>2</th>\n",
              "      <td>A</td>\n",
              "      <td>TV</td>\n",
              "      <td>V1</td>\n",
              "      <td>3</td>\n",
              "      <td>5</td>\n",
              "    </tr>\n",
              "    <tr>\n",
              "      <th>3</th>\n",
              "      <td>B</td>\n",
              "      <td>스마트폰</td>\n",
              "      <td>S2</td>\n",
              "      <td>4</td>\n",
              "      <td>6</td>\n",
              "    </tr>\n",
              "    <tr>\n",
              "      <th>4</th>\n",
              "      <td>B</td>\n",
              "      <td>스마트폰</td>\n",
              "      <td>S1</td>\n",
              "      <td>5</td>\n",
              "      <td>8</td>\n",
              "    </tr>\n",
              "    <tr>\n",
              "      <th>5</th>\n",
              "      <td>B</td>\n",
              "      <td>TV</td>\n",
              "      <td>V1</td>\n",
              "      <td>6</td>\n",
              "      <td>9</td>\n",
              "    </tr>\n",
              "    <tr>\n",
              "      <th>6</th>\n",
              "      <td>C</td>\n",
              "      <td>스마트폰</td>\n",
              "      <td>S2</td>\n",
              "      <td>2</td>\n",
              "      <td>4</td>\n",
              "    </tr>\n",
              "    <tr>\n",
              "      <th>7</th>\n",
              "      <td>C</td>\n",
              "      <td>TV</td>\n",
              "      <td>V1</td>\n",
              "      <td>3</td>\n",
              "      <td>6</td>\n",
              "    </tr>\n",
              "    <tr>\n",
              "      <th>8</th>\n",
              "      <td>C</td>\n",
              "      <td>TV</td>\n",
              "      <td>V2</td>\n",
              "      <td>7</td>\n",
              "      <td>9</td>\n",
              "    </tr>\n",
              "  </tbody>\n",
              "</table>\n",
              "</div>"
            ],
            "text/plain": [
              "  매장명  제품종류 모델명  판매  재고\n",
              "0   A  스마트폰  S1   1   2\n",
              "1   A  스마트폰  S2   2   5\n",
              "2   A    TV  V1   3   5\n",
              "3   B  스마트폰  S2   4   6\n",
              "4   B  스마트폰  S1   5   8\n",
              "5   B    TV  V1   6   9\n",
              "6   C  스마트폰  S2   2   4\n",
              "7   C    TV  V1   3   6\n",
              "8   C    TV  V2   7   9"
            ]
          },
          "execution_count": 110,
          "metadata": {},
          "output_type": "execute_result"
        }
      ],
      "source": [
        "df_sales"
      ]
    },
    {
      "cell_type": "code",
      "execution_count": null,
      "id": "6d66bcc8",
      "metadata": {
        "id": "6d66bcc8",
        "outputId": "92139981-f3cd-4f19-d082-d3ee98c7cf05"
      },
      "outputs": [
        {
          "data": {
            "text/html": [
              "<div>\n",
              "<style scoped>\n",
              "    .dataframe tbody tr th:only-of-type {\n",
              "        vertical-align: middle;\n",
              "    }\n",
              "\n",
              "    .dataframe tbody tr th {\n",
              "        vertical-align: top;\n",
              "    }\n",
              "\n",
              "    .dataframe thead th {\n",
              "        text-align: right;\n",
              "    }\n",
              "</style>\n",
              "<table border=\"1\" class=\"dataframe\">\n",
              "  <thead>\n",
              "    <tr style=\"text-align: right;\">\n",
              "      <th></th>\n",
              "      <th></th>\n",
              "      <th></th>\n",
              "      <th>재고</th>\n",
              "      <th>판매</th>\n",
              "    </tr>\n",
              "    <tr>\n",
              "      <th>매장명</th>\n",
              "      <th>제품종류</th>\n",
              "      <th>모델명</th>\n",
              "      <th></th>\n",
              "      <th></th>\n",
              "    </tr>\n",
              "  </thead>\n",
              "  <tbody>\n",
              "    <tr>\n",
              "      <th rowspan=\"3\" valign=\"top\">A</th>\n",
              "      <th>TV</th>\n",
              "      <th>V1</th>\n",
              "      <td>5</td>\n",
              "      <td>3</td>\n",
              "    </tr>\n",
              "    <tr>\n",
              "      <th rowspan=\"2\" valign=\"top\">스마트폰</th>\n",
              "      <th>S1</th>\n",
              "      <td>2</td>\n",
              "      <td>1</td>\n",
              "    </tr>\n",
              "    <tr>\n",
              "      <th>S2</th>\n",
              "      <td>5</td>\n",
              "      <td>2</td>\n",
              "    </tr>\n",
              "    <tr>\n",
              "      <th rowspan=\"3\" valign=\"top\">B</th>\n",
              "      <th>TV</th>\n",
              "      <th>V1</th>\n",
              "      <td>9</td>\n",
              "      <td>6</td>\n",
              "    </tr>\n",
              "    <tr>\n",
              "      <th rowspan=\"2\" valign=\"top\">스마트폰</th>\n",
              "      <th>S1</th>\n",
              "      <td>8</td>\n",
              "      <td>5</td>\n",
              "    </tr>\n",
              "    <tr>\n",
              "      <th>S2</th>\n",
              "      <td>6</td>\n",
              "      <td>4</td>\n",
              "    </tr>\n",
              "    <tr>\n",
              "      <th rowspan=\"3\" valign=\"top\">C</th>\n",
              "      <th rowspan=\"2\" valign=\"top\">TV</th>\n",
              "      <th>V1</th>\n",
              "      <td>6</td>\n",
              "      <td>3</td>\n",
              "    </tr>\n",
              "    <tr>\n",
              "      <th>V2</th>\n",
              "      <td>9</td>\n",
              "      <td>7</td>\n",
              "    </tr>\n",
              "    <tr>\n",
              "      <th>스마트폰</th>\n",
              "      <th>S2</th>\n",
              "      <td>4</td>\n",
              "      <td>2</td>\n",
              "    </tr>\n",
              "  </tbody>\n",
              "</table>\n",
              "</div>"
            ],
            "text/plain": [
              "              재고  판매\n",
              "매장명 제품종류 모델명        \n",
              "A   TV   V1    5   3\n",
              "    스마트폰 S1    2   1\n",
              "         S2    5   2\n",
              "B   TV   V1    9   6\n",
              "    스마트폰 S1    8   5\n",
              "         S2    6   4\n",
              "C   TV   V1    6   3\n",
              "         V2    9   7\n",
              "    스마트폰 S2    4   2"
            ]
          },
          "execution_count": 111,
          "metadata": {},
          "output_type": "execute_result"
        }
      ],
      "source": [
        "df_sales.pivot_table(index=[\"매장명\", \"제품종류\", \"모델명\"],\n",
        "                     values =[\"판매\",\"재고\"], aggfunc='sum')"
      ]
    },
    {
      "cell_type": "code",
      "execution_count": null,
      "id": "4cc5834e",
      "metadata": {
        "id": "4cc5834e",
        "outputId": "310da947-a9ca-4275-fbad-31da02a4714a"
      },
      "outputs": [
        {
          "data": {
            "text/html": [
              "<div>\n",
              "<style scoped>\n",
              "    .dataframe tbody tr th:only-of-type {\n",
              "        vertical-align: middle;\n",
              "    }\n",
              "\n",
              "    .dataframe tbody tr th {\n",
              "        vertical-align: top;\n",
              "    }\n",
              "\n",
              "    .dataframe thead tr th {\n",
              "        text-align: left;\n",
              "    }\n",
              "\n",
              "    .dataframe thead tr:last-of-type th {\n",
              "        text-align: right;\n",
              "    }\n",
              "</style>\n",
              "<table border=\"1\" class=\"dataframe\">\n",
              "  <thead>\n",
              "    <tr>\n",
              "      <th></th>\n",
              "      <th colspan=\"2\" halign=\"left\">재고</th>\n",
              "      <th colspan=\"2\" halign=\"left\">판매</th>\n",
              "    </tr>\n",
              "    <tr>\n",
              "      <th>제품종류</th>\n",
              "      <th>TV</th>\n",
              "      <th>스마트폰</th>\n",
              "      <th>TV</th>\n",
              "      <th>스마트폰</th>\n",
              "    </tr>\n",
              "    <tr>\n",
              "      <th>매장명</th>\n",
              "      <th></th>\n",
              "      <th></th>\n",
              "      <th></th>\n",
              "      <th></th>\n",
              "    </tr>\n",
              "  </thead>\n",
              "  <tbody>\n",
              "    <tr>\n",
              "      <th>A</th>\n",
              "      <td>5</td>\n",
              "      <td>7</td>\n",
              "      <td>3</td>\n",
              "      <td>3</td>\n",
              "    </tr>\n",
              "    <tr>\n",
              "      <th>B</th>\n",
              "      <td>9</td>\n",
              "      <td>14</td>\n",
              "      <td>6</td>\n",
              "      <td>9</td>\n",
              "    </tr>\n",
              "    <tr>\n",
              "      <th>C</th>\n",
              "      <td>15</td>\n",
              "      <td>4</td>\n",
              "      <td>10</td>\n",
              "      <td>2</td>\n",
              "    </tr>\n",
              "  </tbody>\n",
              "</table>\n",
              "</div>"
            ],
            "text/plain": [
              "      재고       판매     \n",
              "제품종류  TV 스마트폰  TV 스마트폰\n",
              "매장명                   \n",
              "A      5    7   3    3\n",
              "B      9   14   6    9\n",
              "C     15    4  10    2"
            ]
          },
          "execution_count": 112,
          "metadata": {},
          "output_type": "execute_result"
        }
      ],
      "source": [
        "df_sales.pivot_table(index=[\"매장명\"], columns = [\"제품종류\"],\n",
        "                     values =[\"판매\",\"재고\"], aggfunc='sum')"
      ]
    },
    {
      "cell_type": "code",
      "execution_count": null,
      "id": "ee8d32d3",
      "metadata": {
        "id": "ee8d32d3"
      },
      "outputs": [],
      "source": []
    }
  ],
  "metadata": {
    "kernelspec": {
      "display_name": "Python 3 (ipykernel)",
      "language": "python",
      "name": "python3"
    },
    "language_info": {
      "codemirror_mode": {
        "name": "ipython",
        "version": 3
      },
      "file_extension": ".py",
      "mimetype": "text/x-python",
      "name": "python",
      "nbconvert_exporter": "python",
      "pygments_lexer": "ipython3",
      "version": "3.11.5"
    },
    "colab": {
      "provenance": [],
      "include_colab_link": true
    }
  },
  "nbformat": 4,
  "nbformat_minor": 5
}